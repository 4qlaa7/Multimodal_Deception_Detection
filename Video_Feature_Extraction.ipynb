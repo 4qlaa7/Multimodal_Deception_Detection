{
 "cells": [
  {
   "cell_type": "code",
   "execution_count": 2,
   "metadata": {},
   "outputs": [
    {
     "name": "stdout",
     "output_type": "stream",
     "text": [
      "Processing video: D:/EDU/Graduation Project/Project/Real-life_Deception_Detection_2016/Clips/Deceptive\\trial_lie_001.mp4\n",
      "Processing video: D:/EDU/Graduation Project/Project/Real-life_Deception_Detection_2016/Clips/Deceptive\\trial_lie_002.mp4\n",
      "Processing video: D:/EDU/Graduation Project/Project/Real-life_Deception_Detection_2016/Clips/Deceptive\\trial_lie_003.mp4\n",
      "Processing video: D:/EDU/Graduation Project/Project/Real-life_Deception_Detection_2016/Clips/Deceptive\\trial_lie_004.mp4\n",
      "Processing video: D:/EDU/Graduation Project/Project/Real-life_Deception_Detection_2016/Clips/Deceptive\\trial_lie_005.mp4\n",
      "Processing video: D:/EDU/Graduation Project/Project/Real-life_Deception_Detection_2016/Clips/Deceptive\\trial_lie_006.mp4\n",
      "Processing video: D:/EDU/Graduation Project/Project/Real-life_Deception_Detection_2016/Clips/Deceptive\\trial_lie_007.mp4\n",
      "Processing video: D:/EDU/Graduation Project/Project/Real-life_Deception_Detection_2016/Clips/Deceptive\\trial_lie_008.mp4\n",
      "Processing video: D:/EDU/Graduation Project/Project/Real-life_Deception_Detection_2016/Clips/Deceptive\\trial_lie_009.mp4\n",
      "Processing video: D:/EDU/Graduation Project/Project/Real-life_Deception_Detection_2016/Clips/Deceptive\\trial_lie_010.mp4\n",
      "Processing video: D:/EDU/Graduation Project/Project/Real-life_Deception_Detection_2016/Clips/Deceptive\\trial_lie_011.mp4\n",
      "Processing video: D:/EDU/Graduation Project/Project/Real-life_Deception_Detection_2016/Clips/Deceptive\\trial_lie_012.mp4\n",
      "Processing video: D:/EDU/Graduation Project/Project/Real-life_Deception_Detection_2016/Clips/Deceptive\\trial_lie_013.mp4\n",
      "Processing video: D:/EDU/Graduation Project/Project/Real-life_Deception_Detection_2016/Clips/Deceptive\\trial_lie_014.mp4\n",
      "Processing video: D:/EDU/Graduation Project/Project/Real-life_Deception_Detection_2016/Clips/Deceptive\\trial_lie_015.mp4\n"
     ]
    },
    {
     "ename": "OSError",
     "evalue": "[Errno 28] No space left on device",
     "output_type": "error",
     "traceback": [
      "\u001b[1;31m---------------------------------------------------------------------------\u001b[0m",
      "\u001b[1;31mOSError\u001b[0m                                   Traceback (most recent call last)",
      "Cell \u001b[1;32mIn[2], line 50\u001b[0m\n\u001b[0;32m     47\u001b[0m video_directory \u001b[38;5;241m=\u001b[39m \u001b[38;5;124m'\u001b[39m\u001b[38;5;124mD:/EDU/Graduation Project/Project/Real-life_Deception_Detection_2016/Clips/Deceptive\u001b[39m\u001b[38;5;124m'\u001b[39m\n\u001b[0;32m     48\u001b[0m output_csv_file \u001b[38;5;241m=\u001b[39m \u001b[38;5;124m'\u001b[39m\u001b[38;5;124mDeceptive_Video_Features.csv\u001b[39m\u001b[38;5;124m'\u001b[39m\n\u001b[1;32m---> 50\u001b[0m \u001b[43mextract_features_from_directory\u001b[49m\u001b[43m(\u001b[49m\u001b[43mvideo_directory\u001b[49m\u001b[43m,\u001b[49m\u001b[43m \u001b[49m\u001b[43moutput_csv_file\u001b[49m\u001b[43m)\u001b[49m\n",
      "Cell \u001b[1;32mIn[2], line 44\u001b[0m, in \u001b[0;36mextract_features_from_directory\u001b[1;34m(directory_path, output_csv)\u001b[0m\n\u001b[0;32m     41\u001b[0m \u001b[38;5;28;01melse\u001b[39;00m:\n\u001b[0;32m     42\u001b[0m     \u001b[38;5;66;03m# If there are multiple frames in a video, add a suffix to the video name\u001b[39;00m\n\u001b[0;32m     43\u001b[0m     row_data \u001b[38;5;241m=\u001b[39m [\u001b[38;5;124mf\u001b[39m\u001b[38;5;124m\"\u001b[39m\u001b[38;5;132;01m{\u001b[39;00mfilename\u001b[38;5;132;01m}\u001b[39;00m\u001b[38;5;124m_frame\u001b[39m\u001b[38;5;132;01m{\u001b[39;00mi\u001b[38;5;132;01m}\u001b[39;00m\u001b[38;5;124m\"\u001b[39m] \u001b[38;5;241m+\u001b[39m flattened_frame\u001b[38;5;241m.\u001b[39mtolist()\n\u001b[1;32m---> 44\u001b[0m     \u001b[43mcsv_writer\u001b[49m\u001b[38;5;241;43m.\u001b[39;49m\u001b[43mwriterow\u001b[49m\u001b[43m(\u001b[49m\u001b[43mrow_data\u001b[49m\u001b[43m)\u001b[49m\n",
      "\u001b[1;31mOSError\u001b[0m: [Errno 28] No space left on device"
     ]
    }
   ],
   "source": [
    "import cv2\n",
    "import csv\n",
    "import os\n",
    "\n",
    "def extract_and_flatten_features(video_path):\n",
    "    cap = cv2.VideoCapture(video_path)\n",
    "\n",
    "    while cap.isOpened():\n",
    "        ret, frame = cap.read()\n",
    "        if not ret:\n",
    "            break\n",
    "        \n",
    "        flattened_frame = frame.flatten()\n",
    "        yield flattened_frame\n",
    "\n",
    "    cap.release()\n",
    "\n",
    "def extract_features_from_directory(directory_path, output_csv):\n",
    "    with open(output_csv, 'w', newline='') as csvfile:\n",
    "        csv_writer = csv.writer(csvfile)\n",
    "        header_written = False  # Added to write header only once\n",
    "\n",
    "        for filename in os.listdir(directory_path):\n",
    "            if filename.endswith(\".mp4\"):\n",
    "                video_path = os.path.join(directory_path, filename)\n",
    "                print(f\"Processing video: {video_path}\")\n",
    "\n",
    "                flattened_frame = None  # Initialize flattened_frame outside the loop\n",
    "\n",
    "                for i, frame_features in enumerate(extract_and_flatten_features(video_path)):\n",
    "                    flattened_frame = frame_features\n",
    "\n",
    "                    if not header_written:\n",
    "                        header_written = True\n",
    "                        header = [\"Video\"] + [f\"Feature_{i}\" for i in range(len(flattened_frame))]\n",
    "                        csv_writer.writerow(header)\n",
    "\n",
    "                    if i == 0:\n",
    "                        row_data = [filename] + flattened_frame.tolist()\n",
    "                        csv_writer.writerow(row_data)\n",
    "                    else:\n",
    "                        # If there are multiple frames in a video, add a suffix to the video name\n",
    "                        row_data = [f\"{filename}_frame{i}\"] + flattened_frame.tolist()\n",
    "                        csv_writer.writerow(row_data)\n",
    "\n",
    "if __name__ == \"__main__\":\n",
    "    video_directory = 'D:/EDU/Graduation Project/Project/Real-life_Deception_Detection_2016/Clips/Deceptive'\n",
    "    output_csv_file = 'Deceptive_Video_Features.csv'\n",
    "    \n",
    "    extract_features_from_directory(video_directory, output_csv_file)\n"
   ]
  },
  {
   "cell_type": "code",
   "execution_count": null,
   "metadata": {},
   "outputs": [],
   "source": [
    "if __name__ == \"__main__\":\n",
    "    video_directory = 'D:/EDU/Graduation Project/Project/Real-life_Deception_Detection_2016/Clips/Truthful'\n",
    "    output_csv_file = 'Truthful_Video_Features.csv'\n",
    "    \n",
    "    extract_features_from_directory(video_directory, output_csv_file)"
   ]
  }
 ],
 "metadata": {
  "kernelspec": {
   "display_name": "base",
   "language": "python",
   "name": "python3"
  },
  "language_info": {
   "codemirror_mode": {
    "name": "ipython",
    "version": 3
   },
   "file_extension": ".py",
   "mimetype": "text/x-python",
   "name": "python",
   "nbconvert_exporter": "python",
   "pygments_lexer": "ipython3",
   "version": "3.9.18"
  }
 },
 "nbformat": 4,
 "nbformat_minor": 2
}
