{
 "cells": [
  {
   "cell_type": "code",
   "execution_count": 1,
   "metadata": {},
   "outputs": [
    {
     "name": "stdout",
     "output_type": "stream",
     "text": [
      "Collecting moviepy\n",
      "  Downloading moviepy-1.0.3.tar.gz (388 kB)\n",
      "     ---------------------------------------- 0.0/388.3 kB ? eta -:--:--\n",
      "     - -------------------------------------- 10.2/388.3 kB ? eta -:--:--\n",
      "     --- --------------------------------- 41.0/388.3 kB 495.5 kB/s eta 0:00:01\n",
      "     -------------- ----------------------- 143.4/388.3 kB 1.1 MB/s eta 0:00:01\n",
      "     ---------------------------- --------- 286.7/388.3 kB 1.6 MB/s eta 0:00:01\n",
      "     -------------------------------------- 388.3/388.3 kB 1.9 MB/s eta 0:00:00\n",
      "  Preparing metadata (setup.py): started\n",
      "  Preparing metadata (setup.py): finished with status 'done'\n",
      "Collecting decorator<5.0,>=4.0.2 (from moviepy)\n",
      "  Downloading decorator-4.4.2-py2.py3-none-any.whl (9.2 kB)\n",
      "Requirement already satisfied: tqdm<5.0,>=4.11.2 in c:\\users\\dell\\anaconda3\\lib\\site-packages (from moviepy) (4.65.0)\n",
      "Requirement already satisfied: requests<3.0,>=2.8.1 in c:\\users\\dell\\anaconda3\\lib\\site-packages (from moviepy) (2.31.0)\n",
      "Collecting proglog<=1.0.0 (from moviepy)\n",
      "  Downloading proglog-0.1.10-py3-none-any.whl (6.1 kB)\n",
      "Requirement already satisfied: numpy>=1.17.3 in c:\\users\\dell\\anaconda3\\lib\\site-packages (from moviepy) (1.24.3)\n",
      "Requirement already satisfied: imageio<3.0,>=2.5 in c:\\users\\dell\\anaconda3\\lib\\site-packages (from moviepy) (2.31.4)\n",
      "Collecting imageio_ffmpeg>=0.2.0 (from moviepy)\n",
      "  Obtaining dependency information for imageio_ffmpeg>=0.2.0 from https://files.pythonhosted.org/packages/c6/01/716106099e48c4f419876d5814679a94dd7d6f441217c97c1b608123c6bb/imageio_ffmpeg-0.4.9-py3-none-win_amd64.whl.metadata\n",
      "  Downloading imageio_ffmpeg-0.4.9-py3-none-win_amd64.whl.metadata (1.7 kB)\n",
      "Requirement already satisfied: pillow>=8.3.2 in c:\\users\\dell\\anaconda3\\lib\\site-packages (from imageio<3.0,>=2.5->moviepy) (9.4.0)\n",
      "Requirement already satisfied: setuptools in c:\\users\\dell\\anaconda3\\lib\\site-packages (from imageio_ffmpeg>=0.2.0->moviepy) (68.0.0)\n",
      "Requirement already satisfied: charset-normalizer<4,>=2 in c:\\users\\dell\\anaconda3\\lib\\site-packages (from requests<3.0,>=2.8.1->moviepy) (2.0.4)\n",
      "Requirement already satisfied: idna<4,>=2.5 in c:\\users\\dell\\anaconda3\\lib\\site-packages (from requests<3.0,>=2.8.1->moviepy) (3.4)\n",
      "Requirement already satisfied: urllib3<3,>=1.21.1 in c:\\users\\dell\\anaconda3\\lib\\site-packages (from requests<3.0,>=2.8.1->moviepy) (1.26.16)\n",
      "Requirement already satisfied: certifi>=2017.4.17 in c:\\users\\dell\\anaconda3\\lib\\site-packages (from requests<3.0,>=2.8.1->moviepy) (2023.11.17)\n",
      "Requirement already satisfied: colorama in c:\\users\\dell\\anaconda3\\lib\\site-packages (from tqdm<5.0,>=4.11.2->moviepy) (0.4.6)\n",
      "Downloading imageio_ffmpeg-0.4.9-py3-none-win_amd64.whl (22.6 MB)\n",
      "   ---------------------------------------- 0.0/22.6 MB ? eta -:--:--\n",
      "   ---------------------------------------- 0.2/22.6 MB 3.5 MB/s eta 0:00:07\n",
      "   ---------------------------------------- 0.2/22.6 MB 3.5 MB/s eta 0:00:07\n",
      "   ---------------------------------------- 0.2/22.6 MB 3.5 MB/s eta 0:00:07\n",
      "   ---------------------------------------- 0.2/22.6 MB 3.5 MB/s eta 0:00:07\n",
      "   - -------------------------------------- 0.7/22.6 MB 3.4 MB/s eta 0:00:07\n",
      "   - -------------------------------------- 0.7/22.6 MB 2.8 MB/s eta 0:00:08\n",
      "   - -------------------------------------- 0.9/22.6 MB 2.9 MB/s eta 0:00:08\n",
      "   - -------------------------------------- 1.1/22.6 MB 3.0 MB/s eta 0:00:08\n",
      "   -- ------------------------------------- 1.3/22.6 MB 3.1 MB/s eta 0:00:07\n",
      "   -- ------------------------------------- 1.5/22.6 MB 3.2 MB/s eta 0:00:07\n",
      "   -- ------------------------------------- 1.6/22.6 MB 3.3 MB/s eta 0:00:07\n",
      "   --- ------------------------------------ 1.8/22.6 MB 3.3 MB/s eta 0:00:07\n",
      "   --- ------------------------------------ 2.0/22.6 MB 3.3 MB/s eta 0:00:07\n",
      "   --- ------------------------------------ 2.2/22.6 MB 3.4 MB/s eta 0:00:07\n",
      "   ---- ----------------------------------- 2.4/22.6 MB 3.4 MB/s eta 0:00:06\n",
      "   ---- ----------------------------------- 2.5/22.6 MB 3.5 MB/s eta 0:00:06\n",
      "   ---- ----------------------------------- 2.7/22.6 MB 3.5 MB/s eta 0:00:06\n",
      "   ----- ---------------------------------- 2.9/22.6 MB 3.5 MB/s eta 0:00:06\n",
      "   ----- ---------------------------------- 3.1/22.6 MB 3.5 MB/s eta 0:00:06\n",
      "   ----- ---------------------------------- 3.3/22.6 MB 3.5 MB/s eta 0:00:06\n",
      "   ------ --------------------------------- 3.4/22.6 MB 3.5 MB/s eta 0:00:06\n",
      "   ------ --------------------------------- 3.6/22.6 MB 3.6 MB/s eta 0:00:06\n",
      "   ------ --------------------------------- 3.8/22.6 MB 3.6 MB/s eta 0:00:06\n",
      "   ------- -------------------------------- 4.0/22.6 MB 3.6 MB/s eta 0:00:06\n",
      "   ------- -------------------------------- 4.2/22.6 MB 3.6 MB/s eta 0:00:06\n",
      "   ------- -------------------------------- 4.4/22.6 MB 3.7 MB/s eta 0:00:05\n",
      "   -------- ------------------------------- 4.5/22.6 MB 3.7 MB/s eta 0:00:05\n",
      "   -------- ------------------------------- 4.7/22.6 MB 3.7 MB/s eta 0:00:05\n",
      "   -------- ------------------------------- 4.9/22.6 MB 3.7 MB/s eta 0:00:05\n",
      "   -------- ------------------------------- 5.1/22.6 MB 3.7 MB/s eta 0:00:05\n",
      "   --------- ------------------------------ 5.3/22.6 MB 3.7 MB/s eta 0:00:05\n",
      "   --------- ------------------------------ 5.4/22.6 MB 3.7 MB/s eta 0:00:05\n",
      "   --------- ------------------------------ 5.6/22.6 MB 3.7 MB/s eta 0:00:05\n",
      "   ---------- ----------------------------- 5.8/22.6 MB 3.7 MB/s eta 0:00:05\n",
      "   ---------- ----------------------------- 5.9/22.6 MB 3.7 MB/s eta 0:00:05\n",
      "   ---------- ----------------------------- 6.2/22.6 MB 3.7 MB/s eta 0:00:05\n",
      "   ----------- ---------------------------- 6.3/22.6 MB 3.7 MB/s eta 0:00:05\n",
      "   ----------- ---------------------------- 6.5/22.6 MB 3.7 MB/s eta 0:00:05\n",
      "   ----------- ---------------------------- 6.7/22.6 MB 3.7 MB/s eta 0:00:05\n",
      "   ------------ --------------------------- 6.9/22.6 MB 3.8 MB/s eta 0:00:05\n",
      "   ------------ --------------------------- 7.1/22.6 MB 3.8 MB/s eta 0:00:05\n",
      "   ------------ --------------------------- 7.2/22.6 MB 3.8 MB/s eta 0:00:05\n",
      "   ------------- -------------------------- 7.4/22.6 MB 3.7 MB/s eta 0:00:05\n",
      "   ------------- -------------------------- 7.4/22.6 MB 3.7 MB/s eta 0:00:05\n",
      "   ------------- -------------------------- 7.8/22.6 MB 3.8 MB/s eta 0:00:04\n",
      "   -------------- ------------------------- 7.9/22.6 MB 3.8 MB/s eta 0:00:04\n",
      "   -------------- ------------------------- 8.1/22.6 MB 3.8 MB/s eta 0:00:04\n",
      "   -------------- ------------------------- 8.3/22.6 MB 3.8 MB/s eta 0:00:04\n",
      "   -------------- ------------------------- 8.5/22.6 MB 3.8 MB/s eta 0:00:04\n",
      "   --------------- ------------------------ 8.6/22.6 MB 3.8 MB/s eta 0:00:04\n",
      "   --------------- ------------------------ 8.8/22.6 MB 3.8 MB/s eta 0:00:04\n",
      "   --------------- ------------------------ 9.0/22.6 MB 3.7 MB/s eta 0:00:04\n",
      "   ---------------- ----------------------- 9.2/22.6 MB 3.8 MB/s eta 0:00:04\n",
      "   ---------------- ----------------------- 9.3/22.6 MB 3.7 MB/s eta 0:00:04\n",
      "   ---------------- ----------------------- 9.5/22.6 MB 3.7 MB/s eta 0:00:04\n",
      "   ----------------- ---------------------- 9.7/22.6 MB 3.7 MB/s eta 0:00:04\n",
      "   ----------------- ---------------------- 9.8/22.6 MB 3.7 MB/s eta 0:00:04\n",
      "   ----------------- ---------------------- 10.0/22.6 MB 3.7 MB/s eta 0:00:04\n",
      "   ------------------ --------------------- 10.2/22.6 MB 3.7 MB/s eta 0:00:04\n",
      "   ------------------ --------------------- 10.4/22.6 MB 3.8 MB/s eta 0:00:04\n",
      "   ------------------ --------------------- 10.5/22.6 MB 3.9 MB/s eta 0:00:04\n",
      "   ------------------ --------------------- 10.7/22.6 MB 3.9 MB/s eta 0:00:04\n",
      "   ------------------- -------------------- 10.9/22.6 MB 3.8 MB/s eta 0:00:04\n",
      "   ------------------- -------------------- 11.0/22.6 MB 3.9 MB/s eta 0:00:03\n",
      "   ------------------- -------------------- 11.2/22.6 MB 3.9 MB/s eta 0:00:03\n",
      "   -------------------- ------------------- 11.4/22.6 MB 3.9 MB/s eta 0:00:03\n",
      "   -------------------- ------------------- 11.6/22.6 MB 3.9 MB/s eta 0:00:03\n",
      "   -------------------- ------------------- 11.7/22.6 MB 3.9 MB/s eta 0:00:03\n",
      "   --------------------- ------------------ 11.9/22.6 MB 3.9 MB/s eta 0:00:03\n",
      "   --------------------- ------------------ 12.1/22.6 MB 3.9 MB/s eta 0:00:03\n",
      "   --------------------- ------------------ 12.2/22.6 MB 3.8 MB/s eta 0:00:03\n",
      "   --------------------- ------------------ 12.4/22.6 MB 3.9 MB/s eta 0:00:03\n",
      "   ---------------------- ----------------- 12.6/22.6 MB 3.8 MB/s eta 0:00:03\n",
      "   ---------------------- ----------------- 12.8/22.6 MB 3.8 MB/s eta 0:00:03\n",
      "   ---------------------- ----------------- 12.9/22.6 MB 3.8 MB/s eta 0:00:03\n",
      "   ----------------------- ---------------- 13.1/22.6 MB 3.8 MB/s eta 0:00:03\n",
      "   ----------------------- ---------------- 13.3/22.6 MB 3.8 MB/s eta 0:00:03\n",
      "   ----------------------- ---------------- 13.5/22.6 MB 3.8 MB/s eta 0:00:03\n",
      "   ------------------------ --------------- 13.6/22.6 MB 3.8 MB/s eta 0:00:03\n",
      "   ------------------------ --------------- 13.8/22.6 MB 3.8 MB/s eta 0:00:03\n",
      "   ------------------------ --------------- 14.0/22.6 MB 3.8 MB/s eta 0:00:03\n",
      "   ------------------------- -------------- 14.1/22.6 MB 3.8 MB/s eta 0:00:03\n",
      "   ------------------------- -------------- 14.3/22.6 MB 3.8 MB/s eta 0:00:03\n",
      "   ------------------------- -------------- 14.5/22.6 MB 3.8 MB/s eta 0:00:03\n",
      "   ------------------------- -------------- 14.6/22.6 MB 3.8 MB/s eta 0:00:03\n",
      "   -------------------------- ------------- 14.8/22.6 MB 3.8 MB/s eta 0:00:03\n",
      "   -------------------------- ------------- 15.0/22.6 MB 3.8 MB/s eta 0:00:03\n",
      "   -------------------------- ------------- 15.2/22.6 MB 3.8 MB/s eta 0:00:02\n",
      "   --------------------------- ------------ 15.3/22.6 MB 3.8 MB/s eta 0:00:02\n",
      "   --------------------------- ------------ 15.5/22.6 MB 3.8 MB/s eta 0:00:02\n",
      "   --------------------------- ------------ 15.7/22.6 MB 3.8 MB/s eta 0:00:02\n",
      "   ---------------------------- ----------- 15.9/22.6 MB 3.8 MB/s eta 0:00:02\n",
      "   ---------------------------- ----------- 16.0/22.6 MB 3.8 MB/s eta 0:00:02\n",
      "   ---------------------------- ----------- 16.2/22.6 MB 3.8 MB/s eta 0:00:02\n",
      "   ---------------------------- ----------- 16.4/22.6 MB 3.7 MB/s eta 0:00:02\n",
      "   ----------------------------- ---------- 16.5/22.6 MB 3.7 MB/s eta 0:00:02\n",
      "   ----------------------------- ---------- 16.7/22.6 MB 3.7 MB/s eta 0:00:02\n",
      "   ----------------------------- ---------- 16.9/22.6 MB 3.7 MB/s eta 0:00:02\n",
      "   ------------------------------ --------- 17.0/22.6 MB 3.7 MB/s eta 0:00:02\n",
      "   ------------------------------ --------- 17.2/22.6 MB 3.7 MB/s eta 0:00:02\n",
      "   ------------------------------ --------- 17.4/22.6 MB 3.7 MB/s eta 0:00:02\n",
      "   ------------------------------- -------- 17.6/22.6 MB 3.7 MB/s eta 0:00:02\n",
      "   ------------------------------- -------- 17.7/22.6 MB 3.8 MB/s eta 0:00:02\n",
      "   ------------------------------- -------- 17.9/22.6 MB 3.8 MB/s eta 0:00:02\n",
      "   ------------------------------- -------- 18.1/22.6 MB 3.7 MB/s eta 0:00:02\n",
      "   -------------------------------- ------- 18.2/22.6 MB 3.7 MB/s eta 0:00:02\n",
      "   -------------------------------- ------- 18.4/22.6 MB 3.7 MB/s eta 0:00:02\n",
      "   -------------------------------- ------- 18.6/22.6 MB 3.7 MB/s eta 0:00:02\n",
      "   --------------------------------- ------ 18.8/22.6 MB 3.7 MB/s eta 0:00:02\n",
      "   --------------------------------- ------ 18.9/22.6 MB 3.7 MB/s eta 0:00:01\n",
      "   --------------------------------- ------ 19.1/22.6 MB 3.7 MB/s eta 0:00:01\n",
      "   ---------------------------------- ----- 19.3/22.6 MB 3.7 MB/s eta 0:00:01\n",
      "   ---------------------------------- ----- 19.4/22.6 MB 3.7 MB/s eta 0:00:01\n",
      "   ---------------------------------- ----- 19.6/22.6 MB 3.7 MB/s eta 0:00:01\n",
      "   ---------------------------------- ----- 19.8/22.6 MB 3.7 MB/s eta 0:00:01\n",
      "   ----------------------------------- ---- 19.9/22.6 MB 3.7 MB/s eta 0:00:01\n",
      "   ----------------------------------- ---- 20.1/22.6 MB 3.7 MB/s eta 0:00:01\n",
      "   ----------------------------------- ---- 20.3/22.6 MB 3.7 MB/s eta 0:00:01\n",
      "   ------------------------------------ --- 20.5/22.6 MB 3.7 MB/s eta 0:00:01\n",
      "   ------------------------------------ --- 20.6/22.6 MB 3.7 MB/s eta 0:00:01\n",
      "   ------------------------------------ --- 20.8/22.6 MB 3.7 MB/s eta 0:00:01\n",
      "   ------------------------------------- -- 21.0/22.6 MB 3.7 MB/s eta 0:00:01\n",
      "   ------------------------------------- -- 21.1/22.6 MB 3.7 MB/s eta 0:00:01\n",
      "   ------------------------------------- -- 21.3/22.6 MB 3.7 MB/s eta 0:00:01\n",
      "   ------------------------------------- -- 21.5/22.6 MB 3.7 MB/s eta 0:00:01\n",
      "   -------------------------------------- - 21.7/22.6 MB 3.7 MB/s eta 0:00:01\n",
      "   -------------------------------------- - 21.8/22.6 MB 3.7 MB/s eta 0:00:01\n",
      "   -------------------------------------- - 22.0/22.6 MB 3.7 MB/s eta 0:00:01\n",
      "   ---------------------------------------  22.2/22.6 MB 3.7 MB/s eta 0:00:01\n",
      "   ---------------------------------------  22.4/22.6 MB 3.7 MB/s eta 0:00:01\n",
      "   ---------------------------------------  22.5/22.6 MB 3.7 MB/s eta 0:00:01\n",
      "   ---------------------------------------  22.6/22.6 MB 3.7 MB/s eta 0:00:01\n",
      "   ---------------------------------------- 22.6/22.6 MB 3.6 MB/s eta 0:00:00\n",
      "Building wheels for collected packages: moviepy\n",
      "  Building wheel for moviepy (setup.py): started\n",
      "  Building wheel for moviepy (setup.py): finished with status 'done'\n",
      "  Created wheel for moviepy: filename=moviepy-1.0.3-py3-none-any.whl size=110765 sha256=8f842aa5ffa5428511b4364499b9b98820fc9e15043fcbe116d900d367c9dd52\n",
      "  Stored in directory: c:\\users\\dell\\appdata\\local\\pip\\cache\\wheels\\29\\15\\e4\\4f790bec6acd51a00b67e8ee1394f0bc6e0135c315f8ff399a\n",
      "Successfully built moviepy\n",
      "Installing collected packages: imageio_ffmpeg, decorator, proglog, moviepy\n",
      "  Attempting uninstall: decorator\n",
      "    Found existing installation: decorator 5.1.1\n",
      "    Uninstalling decorator-5.1.1:\n",
      "      Successfully uninstalled decorator-5.1.1\n",
      "Successfully installed decorator-4.4.2 imageio_ffmpeg-0.4.9 moviepy-1.0.3 proglog-0.1.10\n",
      "Note: you may need to restart the kernel to use updated packages.\n"
     ]
    }
   ],
   "source": [
    "pip install moviepy"
   ]
  },
  {
   "cell_type": "code",
   "execution_count": 6,
   "metadata": {},
   "outputs": [],
   "source": [
    "import os\n",
    "from moviepy.editor import *"
   ]
  },
  {
   "cell_type": "code",
   "execution_count": 5,
   "metadata": {},
   "outputs": [
    {
     "name": "stdout",
     "output_type": "stream",
     "text": [
      "MoviePy - Writing audio in D:/EDU/Graduation Project/Project/Real-life_Deception_Detection_2016/Audio/Deceptive/output.mp3\n"
     ]
    },
    {
     "name": "stderr",
     "output_type": "stream",
     "text": [
      "                                                                    "
     ]
    },
    {
     "name": "stdout",
     "output_type": "stream",
     "text": [
      "MoviePy - Done.\n"
     ]
    },
    {
     "name": "stderr",
     "output_type": "stream",
     "text": [
      "\r"
     ]
    }
   ],
   "source": [
    "\n",
    "\n",
    "# Replace 'video.mp4' with the path to your video file\n",
    "video = VideoFileClip(\"D:/EDU/Graduation Project/Project/Real-life_Deception_Detection_2016/Clips/Deceptive/trial_lie_001.mp4\")\n",
    "\n",
    "# Extract audio from the video\n",
    "audio = video.audio\n",
    "\n",
    "# Save the audio to a file\n",
    "# Replace 'output.mp3' with the path to where you want to save the audio file\n",
    "audio.write_audiofile(\"D:/EDU/Graduation Project/Project/Real-life_Deception_Detection_2016/Audio/Deceptive/output.mp3\")"
   ]
  },
  {
   "cell_type": "code",
   "execution_count": 7,
   "metadata": {},
   "outputs": [
    {
     "name": "stdout",
     "output_type": "stream",
     "text": [
      "MoviePy - Writing audio in D:/EDU/Graduation Project/Project/Real-life_Deception_Detection_2016/Audio/Deceptive\\trial_lie_001.wav\n"
     ]
    },
    {
     "name": "stderr",
     "output_type": "stream",
     "text": [
      "                                                                    "
     ]
    },
    {
     "name": "stdout",
     "output_type": "stream",
     "text": [
      "MoviePy - Done.\n"
     ]
    },
    {
     "name": "stderr",
     "output_type": "stream",
     "text": [
      "\r"
     ]
    },
    {
     "name": "stdout",
     "output_type": "stream",
     "text": [
      "MoviePy - Writing audio in D:/EDU/Graduation Project/Project/Real-life_Deception_Detection_2016/Audio/Deceptive\\trial_lie_002.wav\n"
     ]
    },
    {
     "name": "stderr",
     "output_type": "stream",
     "text": [
      "                                                                      \r"
     ]
    },
    {
     "name": "stdout",
     "output_type": "stream",
     "text": [
      "MoviePy - Done.\n",
      "MoviePy - Writing audio in D:/EDU/Graduation Project/Project/Real-life_Deception_Detection_2016/Audio/Deceptive\\trial_lie_003.wav\n"
     ]
    },
    {
     "name": "stderr",
     "output_type": "stream",
     "text": [
      "                                                        "
     ]
    },
    {
     "name": "stdout",
     "output_type": "stream",
     "text": [
      "MoviePy - Done.\n"
     ]
    },
    {
     "name": "stderr",
     "output_type": "stream",
     "text": [
      "\r"
     ]
    },
    {
     "name": "stdout",
     "output_type": "stream",
     "text": [
      "MoviePy - Writing audio in D:/EDU/Graduation Project/Project/Real-life_Deception_Detection_2016/Audio/Deceptive\\trial_lie_004.wav\n"
     ]
    },
    {
     "name": "stderr",
     "output_type": "stream",
     "text": [
      "                                                                    "
     ]
    },
    {
     "name": "stdout",
     "output_type": "stream",
     "text": [
      "MoviePy - Done.\n"
     ]
    },
    {
     "name": "stderr",
     "output_type": "stream",
     "text": [
      "\r"
     ]
    },
    {
     "name": "stdout",
     "output_type": "stream",
     "text": [
      "MoviePy - Writing audio in D:/EDU/Graduation Project/Project/Real-life_Deception_Detection_2016/Audio/Deceptive\\trial_lie_005.wav\n"
     ]
    },
    {
     "name": "stderr",
     "output_type": "stream",
     "text": [
      "                                                                     \r"
     ]
    },
    {
     "name": "stdout",
     "output_type": "stream",
     "text": [
      "MoviePy - Done.\n",
      "MoviePy - Writing audio in D:/EDU/Graduation Project/Project/Real-life_Deception_Detection_2016/Audio/Deceptive\\trial_lie_006.wav\n"
     ]
    },
    {
     "name": "stderr",
     "output_type": "stream",
     "text": [
      "                                                                    "
     ]
    },
    {
     "name": "stdout",
     "output_type": "stream",
     "text": [
      "MoviePy - Done.\n"
     ]
    },
    {
     "name": "stderr",
     "output_type": "stream",
     "text": [
      "\r"
     ]
    },
    {
     "name": "stdout",
     "output_type": "stream",
     "text": [
      "MoviePy - Writing audio in D:/EDU/Graduation Project/Project/Real-life_Deception_Detection_2016/Audio/Deceptive\\trial_lie_007.wav\n"
     ]
    },
    {
     "name": "stderr",
     "output_type": "stream",
     "text": [
      "                                                                     \r"
     ]
    },
    {
     "name": "stdout",
     "output_type": "stream",
     "text": [
      "MoviePy - Done.\n",
      "MoviePy - Writing audio in D:/EDU/Graduation Project/Project/Real-life_Deception_Detection_2016/Audio/Deceptive\\trial_lie_008.wav\n"
     ]
    },
    {
     "name": "stderr",
     "output_type": "stream",
     "text": [
      "                                                                    "
     ]
    },
    {
     "name": "stdout",
     "output_type": "stream",
     "text": [
      "MoviePy - Done.\n"
     ]
    },
    {
     "name": "stderr",
     "output_type": "stream",
     "text": [
      "\r"
     ]
    },
    {
     "name": "stdout",
     "output_type": "stream",
     "text": [
      "MoviePy - Writing audio in D:/EDU/Graduation Project/Project/Real-life_Deception_Detection_2016/Audio/Deceptive\\trial_lie_009.wav\n"
     ]
    },
    {
     "name": "stderr",
     "output_type": "stream",
     "text": [
      "                                                                    "
     ]
    },
    {
     "name": "stdout",
     "output_type": "stream",
     "text": [
      "MoviePy - Done.\n"
     ]
    },
    {
     "name": "stderr",
     "output_type": "stream",
     "text": [
      "\r"
     ]
    },
    {
     "name": "stdout",
     "output_type": "stream",
     "text": [
      "MoviePy - Writing audio in D:/EDU/Graduation Project/Project/Real-life_Deception_Detection_2016/Audio/Deceptive\\trial_lie_010.wav\n"
     ]
    },
    {
     "name": "stderr",
     "output_type": "stream",
     "text": [
      "                                                                    \r"
     ]
    },
    {
     "name": "stdout",
     "output_type": "stream",
     "text": [
      "MoviePy - Done.\n",
      "MoviePy - Writing audio in D:/EDU/Graduation Project/Project/Real-life_Deception_Detection_2016/Audio/Deceptive\\trial_lie_011.wav\n"
     ]
    },
    {
     "name": "stderr",
     "output_type": "stream",
     "text": [
      "                                                                    \r"
     ]
    },
    {
     "name": "stdout",
     "output_type": "stream",
     "text": [
      "MoviePy - Done.\n",
      "MoviePy - Writing audio in D:/EDU/Graduation Project/Project/Real-life_Deception_Detection_2016/Audio/Deceptive\\trial_lie_012.wav\n"
     ]
    },
    {
     "name": "stderr",
     "output_type": "stream",
     "text": [
      "                                                        "
     ]
    },
    {
     "name": "stdout",
     "output_type": "stream",
     "text": [
      "MoviePy - Done.\n"
     ]
    },
    {
     "name": "stderr",
     "output_type": "stream",
     "text": [
      "\r"
     ]
    },
    {
     "name": "stdout",
     "output_type": "stream",
     "text": [
      "MoviePy - Writing audio in D:/EDU/Graduation Project/Project/Real-life_Deception_Detection_2016/Audio/Deceptive\\trial_lie_013.wav\n"
     ]
    },
    {
     "name": "stderr",
     "output_type": "stream",
     "text": [
      "                                                                    "
     ]
    },
    {
     "name": "stdout",
     "output_type": "stream",
     "text": [
      "MoviePy - Done.\n"
     ]
    },
    {
     "name": "stderr",
     "output_type": "stream",
     "text": [
      "\r"
     ]
    },
    {
     "name": "stdout",
     "output_type": "stream",
     "text": [
      "MoviePy - Writing audio in D:/EDU/Graduation Project/Project/Real-life_Deception_Detection_2016/Audio/Deceptive\\trial_lie_014.wav\n"
     ]
    },
    {
     "name": "stderr",
     "output_type": "stream",
     "text": [
      "                                                                    "
     ]
    },
    {
     "name": "stdout",
     "output_type": "stream",
     "text": [
      "MoviePy - Done.\n"
     ]
    },
    {
     "name": "stderr",
     "output_type": "stream",
     "text": [
      "\r"
     ]
    },
    {
     "name": "stdout",
     "output_type": "stream",
     "text": [
      "MoviePy - Writing audio in D:/EDU/Graduation Project/Project/Real-life_Deception_Detection_2016/Audio/Deceptive\\trial_lie_015.wav\n"
     ]
    },
    {
     "name": "stderr",
     "output_type": "stream",
     "text": [
      "                                                                    \r"
     ]
    },
    {
     "name": "stdout",
     "output_type": "stream",
     "text": [
      "MoviePy - Done.\n",
      "MoviePy - Writing audio in D:/EDU/Graduation Project/Project/Real-life_Deception_Detection_2016/Audio/Deceptive\\trial_lie_016.wav\n"
     ]
    },
    {
     "name": "stderr",
     "output_type": "stream",
     "text": [
      "                                                                    \r"
     ]
    },
    {
     "name": "stdout",
     "output_type": "stream",
     "text": [
      "MoviePy - Done.\n",
      "MoviePy - Writing audio in D:/EDU/Graduation Project/Project/Real-life_Deception_Detection_2016/Audio/Deceptive\\trial_lie_017.wav\n"
     ]
    },
    {
     "name": "stderr",
     "output_type": "stream",
     "text": [
      "                                                                    \r"
     ]
    },
    {
     "name": "stdout",
     "output_type": "stream",
     "text": [
      "MoviePy - Done.\n",
      "MoviePy - Writing audio in D:/EDU/Graduation Project/Project/Real-life_Deception_Detection_2016/Audio/Deceptive\\trial_lie_018.wav\n"
     ]
    },
    {
     "name": "stderr",
     "output_type": "stream",
     "text": [
      "                                                                    \r"
     ]
    },
    {
     "name": "stdout",
     "output_type": "stream",
     "text": [
      "MoviePy - Done.\n",
      "MoviePy - Writing audio in D:/EDU/Graduation Project/Project/Real-life_Deception_Detection_2016/Audio/Deceptive\\trial_lie_019.wav\n"
     ]
    },
    {
     "name": "stderr",
     "output_type": "stream",
     "text": [
      "                                                                    \r"
     ]
    },
    {
     "name": "stdout",
     "output_type": "stream",
     "text": [
      "MoviePy - Done.\n",
      "MoviePy - Writing audio in D:/EDU/Graduation Project/Project/Real-life_Deception_Detection_2016/Audio/Deceptive\\trial_lie_020.wav\n"
     ]
    },
    {
     "name": "stderr",
     "output_type": "stream",
     "text": [
      "                                                        "
     ]
    },
    {
     "name": "stdout",
     "output_type": "stream",
     "text": [
      "MoviePy - Done.\n"
     ]
    },
    {
     "name": "stderr",
     "output_type": "stream",
     "text": [
      "\r"
     ]
    },
    {
     "name": "stdout",
     "output_type": "stream",
     "text": [
      "MoviePy - Writing audio in D:/EDU/Graduation Project/Project/Real-life_Deception_Detection_2016/Audio/Deceptive\\trial_lie_021.wav\n"
     ]
    },
    {
     "name": "stderr",
     "output_type": "stream",
     "text": [
      "                                                                    "
     ]
    },
    {
     "name": "stdout",
     "output_type": "stream",
     "text": [
      "MoviePy - Done.\n"
     ]
    },
    {
     "name": "stderr",
     "output_type": "stream",
     "text": [
      "\r"
     ]
    },
    {
     "name": "stdout",
     "output_type": "stream",
     "text": [
      "MoviePy - Writing audio in D:/EDU/Graduation Project/Project/Real-life_Deception_Detection_2016/Audio/Deceptive\\trial_lie_022.wav\n"
     ]
    },
    {
     "name": "stderr",
     "output_type": "stream",
     "text": [
      "                                                                    \r"
     ]
    },
    {
     "name": "stdout",
     "output_type": "stream",
     "text": [
      "MoviePy - Done.\n",
      "MoviePy - Writing audio in D:/EDU/Graduation Project/Project/Real-life_Deception_Detection_2016/Audio/Deceptive\\trial_lie_023.wav\n"
     ]
    },
    {
     "name": "stderr",
     "output_type": "stream",
     "text": [
      "                                                                    \r"
     ]
    },
    {
     "name": "stdout",
     "output_type": "stream",
     "text": [
      "MoviePy - Done.\n",
      "MoviePy - Writing audio in D:/EDU/Graduation Project/Project/Real-life_Deception_Detection_2016/Audio/Deceptive\\trial_lie_024.wav\n"
     ]
    },
    {
     "name": "stderr",
     "output_type": "stream",
     "text": [
      "                                                                    "
     ]
    },
    {
     "name": "stdout",
     "output_type": "stream",
     "text": [
      "MoviePy - Done.\n"
     ]
    },
    {
     "name": "stderr",
     "output_type": "stream",
     "text": [
      "\r"
     ]
    },
    {
     "name": "stdout",
     "output_type": "stream",
     "text": [
      "MoviePy - Writing audio in D:/EDU/Graduation Project/Project/Real-life_Deception_Detection_2016/Audio/Deceptive\\trial_lie_025.wav\n"
     ]
    },
    {
     "name": "stderr",
     "output_type": "stream",
     "text": [
      "                                                                    \r"
     ]
    },
    {
     "name": "stdout",
     "output_type": "stream",
     "text": [
      "MoviePy - Done.\n",
      "MoviePy - Writing audio in D:/EDU/Graduation Project/Project/Real-life_Deception_Detection_2016/Audio/Deceptive\\trial_lie_026.wav\n"
     ]
    },
    {
     "name": "stderr",
     "output_type": "stream",
     "text": [
      "                                                                    \r"
     ]
    },
    {
     "name": "stdout",
     "output_type": "stream",
     "text": [
      "MoviePy - Done.\n",
      "MoviePy - Writing audio in D:/EDU/Graduation Project/Project/Real-life_Deception_Detection_2016/Audio/Deceptive\\trial_lie_027.wav\n"
     ]
    },
    {
     "name": "stderr",
     "output_type": "stream",
     "text": [
      "                                                                    \r"
     ]
    },
    {
     "name": "stdout",
     "output_type": "stream",
     "text": [
      "MoviePy - Done.\n",
      "MoviePy - Writing audio in D:/EDU/Graduation Project/Project/Real-life_Deception_Detection_2016/Audio/Deceptive\\trial_lie_028.wav\n"
     ]
    },
    {
     "name": "stderr",
     "output_type": "stream",
     "text": [
      "                                                                    \r"
     ]
    },
    {
     "name": "stdout",
     "output_type": "stream",
     "text": [
      "MoviePy - Done.\n",
      "MoviePy - Writing audio in D:/EDU/Graduation Project/Project/Real-life_Deception_Detection_2016/Audio/Deceptive\\trial_lie_029.wav\n"
     ]
    },
    {
     "name": "stderr",
     "output_type": "stream",
     "text": [
      "                                                                    "
     ]
    },
    {
     "name": "stdout",
     "output_type": "stream",
     "text": [
      "MoviePy - Done.\n"
     ]
    },
    {
     "name": "stderr",
     "output_type": "stream",
     "text": [
      "\r"
     ]
    },
    {
     "name": "stdout",
     "output_type": "stream",
     "text": [
      "MoviePy - Writing audio in D:/EDU/Graduation Project/Project/Real-life_Deception_Detection_2016/Audio/Deceptive\\trial_lie_030.wav\n"
     ]
    },
    {
     "name": "stderr",
     "output_type": "stream",
     "text": [
      "                                                                    \r"
     ]
    },
    {
     "name": "stdout",
     "output_type": "stream",
     "text": [
      "MoviePy - Done.\n",
      "MoviePy - Writing audio in D:/EDU/Graduation Project/Project/Real-life_Deception_Detection_2016/Audio/Deceptive\\trial_lie_031.wav\n"
     ]
    },
    {
     "name": "stderr",
     "output_type": "stream",
     "text": [
      "                                                                    \r"
     ]
    },
    {
     "name": "stdout",
     "output_type": "stream",
     "text": [
      "MoviePy - Done.\n",
      "MoviePy - Writing audio in D:/EDU/Graduation Project/Project/Real-life_Deception_Detection_2016/Audio/Deceptive\\trial_lie_032.wav\n"
     ]
    },
    {
     "name": "stderr",
     "output_type": "stream",
     "text": [
      "                                                                    "
     ]
    },
    {
     "name": "stdout",
     "output_type": "stream",
     "text": [
      "MoviePy - Done.\n"
     ]
    },
    {
     "name": "stderr",
     "output_type": "stream",
     "text": [
      "\r"
     ]
    },
    {
     "name": "stdout",
     "output_type": "stream",
     "text": [
      "MoviePy - Writing audio in D:/EDU/Graduation Project/Project/Real-life_Deception_Detection_2016/Audio/Deceptive\\trial_lie_033.wav\n"
     ]
    },
    {
     "name": "stderr",
     "output_type": "stream",
     "text": [
      "                                                                    \r"
     ]
    },
    {
     "name": "stdout",
     "output_type": "stream",
     "text": [
      "MoviePy - Done.\n",
      "MoviePy - Writing audio in D:/EDU/Graduation Project/Project/Real-life_Deception_Detection_2016/Audio/Deceptive\\trial_lie_034.wav\n"
     ]
    },
    {
     "name": "stderr",
     "output_type": "stream",
     "text": [
      "                                                                    \r"
     ]
    },
    {
     "name": "stdout",
     "output_type": "stream",
     "text": [
      "MoviePy - Done.\n",
      "MoviePy - Writing audio in D:/EDU/Graduation Project/Project/Real-life_Deception_Detection_2016/Audio/Deceptive\\trial_lie_035.wav\n"
     ]
    },
    {
     "name": "stderr",
     "output_type": "stream",
     "text": [
      "                                                                    \r"
     ]
    },
    {
     "name": "stdout",
     "output_type": "stream",
     "text": [
      "MoviePy - Done.\n",
      "MoviePy - Writing audio in D:/EDU/Graduation Project/Project/Real-life_Deception_Detection_2016/Audio/Deceptive\\trial_lie_036.wav\n"
     ]
    },
    {
     "name": "stderr",
     "output_type": "stream",
     "text": [
      "                                                                    \r"
     ]
    },
    {
     "name": "stdout",
     "output_type": "stream",
     "text": [
      "MoviePy - Done.\n",
      "MoviePy - Writing audio in D:/EDU/Graduation Project/Project/Real-life_Deception_Detection_2016/Audio/Deceptive\\trial_lie_037.wav\n"
     ]
    },
    {
     "name": "stderr",
     "output_type": "stream",
     "text": [
      "                                                                    "
     ]
    },
    {
     "name": "stdout",
     "output_type": "stream",
     "text": [
      "MoviePy - Done.\n"
     ]
    },
    {
     "name": "stderr",
     "output_type": "stream",
     "text": [
      "\r"
     ]
    },
    {
     "name": "stdout",
     "output_type": "stream",
     "text": [
      "MoviePy - Writing audio in D:/EDU/Graduation Project/Project/Real-life_Deception_Detection_2016/Audio/Deceptive\\trial_lie_038.wav\n"
     ]
    },
    {
     "name": "stderr",
     "output_type": "stream",
     "text": [
      "                                                                    "
     ]
    },
    {
     "name": "stdout",
     "output_type": "stream",
     "text": [
      "MoviePy - Done.\n"
     ]
    },
    {
     "name": "stderr",
     "output_type": "stream",
     "text": [
      "\r"
     ]
    },
    {
     "name": "stdout",
     "output_type": "stream",
     "text": [
      "MoviePy - Writing audio in D:/EDU/Graduation Project/Project/Real-life_Deception_Detection_2016/Audio/Deceptive\\trial_lie_039.wav\n"
     ]
    },
    {
     "name": "stderr",
     "output_type": "stream",
     "text": [
      "                                                                    "
     ]
    },
    {
     "name": "stdout",
     "output_type": "stream",
     "text": [
      "MoviePy - Done.\n"
     ]
    },
    {
     "name": "stderr",
     "output_type": "stream",
     "text": [
      "\r"
     ]
    },
    {
     "name": "stdout",
     "output_type": "stream",
     "text": [
      "MoviePy - Writing audio in D:/EDU/Graduation Project/Project/Real-life_Deception_Detection_2016/Audio/Deceptive\\trial_lie_040.wav\n"
     ]
    },
    {
     "name": "stderr",
     "output_type": "stream",
     "text": [
      "                                                                    "
     ]
    },
    {
     "name": "stdout",
     "output_type": "stream",
     "text": [
      "MoviePy - Done.\n"
     ]
    },
    {
     "name": "stderr",
     "output_type": "stream",
     "text": [
      "\r"
     ]
    },
    {
     "name": "stdout",
     "output_type": "stream",
     "text": [
      "MoviePy - Writing audio in D:/EDU/Graduation Project/Project/Real-life_Deception_Detection_2016/Audio/Deceptive\\trial_lie_041.wav\n"
     ]
    },
    {
     "name": "stderr",
     "output_type": "stream",
     "text": [
      "                                                                    "
     ]
    },
    {
     "name": "stdout",
     "output_type": "stream",
     "text": [
      "MoviePy - Done.\n"
     ]
    },
    {
     "name": "stderr",
     "output_type": "stream",
     "text": [
      "\r"
     ]
    },
    {
     "name": "stdout",
     "output_type": "stream",
     "text": [
      "MoviePy - Writing audio in D:/EDU/Graduation Project/Project/Real-life_Deception_Detection_2016/Audio/Deceptive\\trial_lie_042.wav\n"
     ]
    },
    {
     "name": "stderr",
     "output_type": "stream",
     "text": [
      "                                                                    "
     ]
    },
    {
     "name": "stdout",
     "output_type": "stream",
     "text": [
      "MoviePy - Done.\n"
     ]
    },
    {
     "name": "stderr",
     "output_type": "stream",
     "text": [
      "\r"
     ]
    },
    {
     "name": "stdout",
     "output_type": "stream",
     "text": [
      "MoviePy - Writing audio in D:/EDU/Graduation Project/Project/Real-life_Deception_Detection_2016/Audio/Deceptive\\trial_lie_043.wav\n"
     ]
    },
    {
     "name": "stderr",
     "output_type": "stream",
     "text": [
      "                                                                    "
     ]
    },
    {
     "name": "stdout",
     "output_type": "stream",
     "text": [
      "MoviePy - Done.\n"
     ]
    },
    {
     "name": "stderr",
     "output_type": "stream",
     "text": [
      "\r"
     ]
    },
    {
     "name": "stdout",
     "output_type": "stream",
     "text": [
      "MoviePy - Writing audio in D:/EDU/Graduation Project/Project/Real-life_Deception_Detection_2016/Audio/Deceptive\\trial_lie_044.wav\n"
     ]
    },
    {
     "name": "stderr",
     "output_type": "stream",
     "text": [
      "                                                        "
     ]
    },
    {
     "name": "stdout",
     "output_type": "stream",
     "text": [
      "MoviePy - Done.\n"
     ]
    },
    {
     "name": "stderr",
     "output_type": "stream",
     "text": [
      "\r"
     ]
    },
    {
     "name": "stdout",
     "output_type": "stream",
     "text": [
      "MoviePy - Writing audio in D:/EDU/Graduation Project/Project/Real-life_Deception_Detection_2016/Audio/Deceptive\\trial_lie_045.wav\n"
     ]
    },
    {
     "name": "stderr",
     "output_type": "stream",
     "text": [
      "                                                                    "
     ]
    },
    {
     "name": "stdout",
     "output_type": "stream",
     "text": [
      "MoviePy - Done.\n"
     ]
    },
    {
     "name": "stderr",
     "output_type": "stream",
     "text": [
      "\r"
     ]
    },
    {
     "name": "stdout",
     "output_type": "stream",
     "text": [
      "MoviePy - Writing audio in D:/EDU/Graduation Project/Project/Real-life_Deception_Detection_2016/Audio/Deceptive\\trial_lie_046.wav\n"
     ]
    },
    {
     "name": "stderr",
     "output_type": "stream",
     "text": [
      "                                                                    "
     ]
    },
    {
     "name": "stdout",
     "output_type": "stream",
     "text": [
      "MoviePy - Done.\n"
     ]
    },
    {
     "name": "stderr",
     "output_type": "stream",
     "text": [
      "\r"
     ]
    },
    {
     "name": "stdout",
     "output_type": "stream",
     "text": [
      "MoviePy - Writing audio in D:/EDU/Graduation Project/Project/Real-life_Deception_Detection_2016/Audio/Deceptive\\trial_lie_047.wav\n"
     ]
    },
    {
     "name": "stderr",
     "output_type": "stream",
     "text": [
      "                                                                    "
     ]
    },
    {
     "name": "stdout",
     "output_type": "stream",
     "text": [
      "MoviePy - Done.\n"
     ]
    },
    {
     "name": "stderr",
     "output_type": "stream",
     "text": [
      "\r"
     ]
    },
    {
     "name": "stdout",
     "output_type": "stream",
     "text": [
      "MoviePy - Writing audio in D:/EDU/Graduation Project/Project/Real-life_Deception_Detection_2016/Audio/Deceptive\\trial_lie_048.wav\n"
     ]
    },
    {
     "name": "stderr",
     "output_type": "stream",
     "text": [
      "                                                                     \r"
     ]
    },
    {
     "name": "stdout",
     "output_type": "stream",
     "text": [
      "MoviePy - Done.\n",
      "MoviePy - Writing audio in D:/EDU/Graduation Project/Project/Real-life_Deception_Detection_2016/Audio/Deceptive\\trial_lie_049.wav\n"
     ]
    },
    {
     "name": "stderr",
     "output_type": "stream",
     "text": [
      "                                                                    "
     ]
    },
    {
     "name": "stdout",
     "output_type": "stream",
     "text": [
      "MoviePy - Done.\n"
     ]
    },
    {
     "name": "stderr",
     "output_type": "stream",
     "text": [
      "\r"
     ]
    },
    {
     "name": "stdout",
     "output_type": "stream",
     "text": [
      "MoviePy - Writing audio in D:/EDU/Graduation Project/Project/Real-life_Deception_Detection_2016/Audio/Deceptive\\trial_lie_050.wav\n"
     ]
    },
    {
     "name": "stderr",
     "output_type": "stream",
     "text": [
      "                                                                    "
     ]
    },
    {
     "name": "stdout",
     "output_type": "stream",
     "text": [
      "MoviePy - Done.\n"
     ]
    },
    {
     "name": "stderr",
     "output_type": "stream",
     "text": [
      "\r"
     ]
    },
    {
     "name": "stdout",
     "output_type": "stream",
     "text": [
      "MoviePy - Writing audio in D:/EDU/Graduation Project/Project/Real-life_Deception_Detection_2016/Audio/Deceptive\\trial_lie_051.wav\n"
     ]
    },
    {
     "name": "stderr",
     "output_type": "stream",
     "text": [
      "                                                        \r"
     ]
    },
    {
     "name": "stdout",
     "output_type": "stream",
     "text": [
      "MoviePy - Done.\n",
      "MoviePy - Writing audio in D:/EDU/Graduation Project/Project/Real-life_Deception_Detection_2016/Audio/Deceptive\\trial_lie_052.wav\n"
     ]
    },
    {
     "name": "stderr",
     "output_type": "stream",
     "text": [
      "                                                                     \r"
     ]
    },
    {
     "name": "stdout",
     "output_type": "stream",
     "text": [
      "MoviePy - Done.\n",
      "MoviePy - Writing audio in D:/EDU/Graduation Project/Project/Real-life_Deception_Detection_2016/Audio/Deceptive\\trial_lie_053.wav\n"
     ]
    },
    {
     "name": "stderr",
     "output_type": "stream",
     "text": [
      "                                                                    \r"
     ]
    },
    {
     "name": "stdout",
     "output_type": "stream",
     "text": [
      "MoviePy - Done.\n",
      "MoviePy - Writing audio in D:/EDU/Graduation Project/Project/Real-life_Deception_Detection_2016/Audio/Deceptive\\trial_lie_054.wav\n"
     ]
    },
    {
     "name": "stderr",
     "output_type": "stream",
     "text": [
      "                                                                    "
     ]
    },
    {
     "name": "stdout",
     "output_type": "stream",
     "text": [
      "MoviePy - Done.\n"
     ]
    },
    {
     "name": "stderr",
     "output_type": "stream",
     "text": [
      "\r"
     ]
    },
    {
     "name": "stdout",
     "output_type": "stream",
     "text": [
      "MoviePy - Writing audio in D:/EDU/Graduation Project/Project/Real-life_Deception_Detection_2016/Audio/Deceptive\\trial_lie_055.wav\n"
     ]
    },
    {
     "name": "stderr",
     "output_type": "stream",
     "text": [
      "                                                                    \r"
     ]
    },
    {
     "name": "stdout",
     "output_type": "stream",
     "text": [
      "MoviePy - Done.\n",
      "MoviePy - Writing audio in D:/EDU/Graduation Project/Project/Real-life_Deception_Detection_2016/Audio/Deceptive\\trial_lie_056.wav\n"
     ]
    },
    {
     "name": "stderr",
     "output_type": "stream",
     "text": [
      "                                                                    "
     ]
    },
    {
     "name": "stdout",
     "output_type": "stream",
     "text": [
      "MoviePy - Done.\n"
     ]
    },
    {
     "name": "stderr",
     "output_type": "stream",
     "text": [
      "\r"
     ]
    },
    {
     "name": "stdout",
     "output_type": "stream",
     "text": [
      "MoviePy - Writing audio in D:/EDU/Graduation Project/Project/Real-life_Deception_Detection_2016/Audio/Deceptive\\trial_lie_057.wav\n"
     ]
    },
    {
     "name": "stderr",
     "output_type": "stream",
     "text": [
      "                                                                    "
     ]
    },
    {
     "name": "stdout",
     "output_type": "stream",
     "text": [
      "MoviePy - Done.\n"
     ]
    },
    {
     "name": "stderr",
     "output_type": "stream",
     "text": [
      "\r"
     ]
    },
    {
     "name": "stdout",
     "output_type": "stream",
     "text": [
      "MoviePy - Writing audio in D:/EDU/Graduation Project/Project/Real-life_Deception_Detection_2016/Audio/Deceptive\\trial_lie_058.wav\n"
     ]
    },
    {
     "name": "stderr",
     "output_type": "stream",
     "text": [
      "                                                                    "
     ]
    },
    {
     "name": "stdout",
     "output_type": "stream",
     "text": [
      "MoviePy - Done.\n"
     ]
    },
    {
     "name": "stderr",
     "output_type": "stream",
     "text": [
      "\r"
     ]
    },
    {
     "name": "stdout",
     "output_type": "stream",
     "text": [
      "MoviePy - Writing audio in D:/EDU/Graduation Project/Project/Real-life_Deception_Detection_2016/Audio/Deceptive\\trial_lie_059.wav\n"
     ]
    },
    {
     "name": "stderr",
     "output_type": "stream",
     "text": [
      "                                                                    \r"
     ]
    },
    {
     "name": "stdout",
     "output_type": "stream",
     "text": [
      "MoviePy - Done.\n",
      "MoviePy - Writing audio in D:/EDU/Graduation Project/Project/Real-life_Deception_Detection_2016/Audio/Deceptive\\trial_lie_060.wav\n"
     ]
    },
    {
     "name": "stderr",
     "output_type": "stream",
     "text": [
      "                                                                    "
     ]
    },
    {
     "name": "stdout",
     "output_type": "stream",
     "text": [
      "MoviePy - Done.\n"
     ]
    },
    {
     "name": "stderr",
     "output_type": "stream",
     "text": [
      "\r"
     ]
    },
    {
     "name": "stdout",
     "output_type": "stream",
     "text": [
      "MoviePy - Writing audio in D:/EDU/Graduation Project/Project/Real-life_Deception_Detection_2016/Audio/Deceptive\\trial_lie_061.wav\n"
     ]
    },
    {
     "name": "stderr",
     "output_type": "stream",
     "text": [
      "                                                                    "
     ]
    },
    {
     "name": "stdout",
     "output_type": "stream",
     "text": [
      "MoviePy - Done.\n"
     ]
    },
    {
     "name": "stderr",
     "output_type": "stream",
     "text": [
      "\r"
     ]
    }
   ],
   "source": [
    "\n",
    "\n",
    "def extract_audio(input_file, output_file):\n",
    "    try:\n",
    "        video = VideoFileClip(input_file)\n",
    "        audio = video.audio\n",
    "        audio.write_audiofile(output_file)\n",
    "    except Exception as e:\n",
    "        print(f\"Error: {e}\")\n",
    "\n",
    "def main():\n",
    "    directory = 'D:/EDU/Graduation Project/Project/Real-life_Deception_Detection_2016/Clips/Deceptive'\n",
    "    output_directory = 'D:/EDU/Graduation Project/Project/Real-life_Deception_Detection_2016/Audio/Deceptive'\n",
    "\n",
    "    for filename in os.listdir(directory):\n",
    "        if filename.endswith('.mp4'):\n",
    "            input_file = os.path.join(directory, filename)\n",
    "            output_file = os.path.join(output_directory, os.path.splitext(filename)[0] + '.wav')\n",
    "            extract_audio(input_file, output_file)\n",
    "\n",
    "if __name__ == \"__main__\":\n",
    "    main()"
   ]
  },
  {
   "cell_type": "code",
   "execution_count": 8,
   "metadata": {},
   "outputs": [
    {
     "name": "stdout",
     "output_type": "stream",
     "text": [
      "MoviePy - Writing audio in D:/EDU/Graduation Project/Project/Real-life_Deception_Detection_2016/Audio/Truthful\\trial_truth_001.wav\n"
     ]
    },
    {
     "name": "stderr",
     "output_type": "stream",
     "text": [
      "                                                        "
     ]
    },
    {
     "name": "stdout",
     "output_type": "stream",
     "text": [
      "MoviePy - Done.\n"
     ]
    },
    {
     "name": "stderr",
     "output_type": "stream",
     "text": [
      "\r"
     ]
    },
    {
     "name": "stdout",
     "output_type": "stream",
     "text": [
      "MoviePy - Writing audio in D:/EDU/Graduation Project/Project/Real-life_Deception_Detection_2016/Audio/Truthful\\trial_truth_002.wav\n"
     ]
    },
    {
     "name": "stderr",
     "output_type": "stream",
     "text": [
      "                                                                    "
     ]
    },
    {
     "name": "stdout",
     "output_type": "stream",
     "text": [
      "MoviePy - Done.\n"
     ]
    },
    {
     "name": "stderr",
     "output_type": "stream",
     "text": [
      "\r"
     ]
    },
    {
     "name": "stdout",
     "output_type": "stream",
     "text": [
      "MoviePy - Writing audio in D:/EDU/Graduation Project/Project/Real-life_Deception_Detection_2016/Audio/Truthful\\trial_truth_003.wav\n"
     ]
    },
    {
     "name": "stderr",
     "output_type": "stream",
     "text": [
      "                                                                    "
     ]
    },
    {
     "name": "stdout",
     "output_type": "stream",
     "text": [
      "MoviePy - Done.\n"
     ]
    },
    {
     "name": "stderr",
     "output_type": "stream",
     "text": [
      "\r"
     ]
    },
    {
     "name": "stdout",
     "output_type": "stream",
     "text": [
      "MoviePy - Writing audio in D:/EDU/Graduation Project/Project/Real-life_Deception_Detection_2016/Audio/Truthful\\trial_truth_004.wav\n"
     ]
    },
    {
     "name": "stderr",
     "output_type": "stream",
     "text": [
      "                                                                      \r"
     ]
    },
    {
     "name": "stdout",
     "output_type": "stream",
     "text": [
      "MoviePy - Done.\n",
      "MoviePy - Writing audio in D:/EDU/Graduation Project/Project/Real-life_Deception_Detection_2016/Audio/Truthful\\trial_truth_005.wav\n"
     ]
    },
    {
     "name": "stderr",
     "output_type": "stream",
     "text": [
      "                                                                    \r"
     ]
    },
    {
     "name": "stdout",
     "output_type": "stream",
     "text": [
      "MoviePy - Done.\n",
      "MoviePy - Writing audio in D:/EDU/Graduation Project/Project/Real-life_Deception_Detection_2016/Audio/Truthful\\trial_truth_006.wav\n"
     ]
    },
    {
     "name": "stderr",
     "output_type": "stream",
     "text": [
      "                                                                    \r"
     ]
    },
    {
     "name": "stdout",
     "output_type": "stream",
     "text": [
      "MoviePy - Done.\n",
      "MoviePy - Writing audio in D:/EDU/Graduation Project/Project/Real-life_Deception_Detection_2016/Audio/Truthful\\trial_truth_007.wav\n"
     ]
    },
    {
     "name": "stderr",
     "output_type": "stream",
     "text": [
      "                                                                      \r"
     ]
    },
    {
     "name": "stdout",
     "output_type": "stream",
     "text": [
      "MoviePy - Done.\n",
      "MoviePy - Writing audio in D:/EDU/Graduation Project/Project/Real-life_Deception_Detection_2016/Audio/Truthful\\trial_truth_008.wav\n"
     ]
    },
    {
     "name": "stderr",
     "output_type": "stream",
     "text": [
      "                                                                    \r"
     ]
    },
    {
     "name": "stdout",
     "output_type": "stream",
     "text": [
      "MoviePy - Done.\n",
      "MoviePy - Writing audio in D:/EDU/Graduation Project/Project/Real-life_Deception_Detection_2016/Audio/Truthful\\trial_truth_009.wav\n"
     ]
    },
    {
     "name": "stderr",
     "output_type": "stream",
     "text": [
      "                                                                    "
     ]
    },
    {
     "name": "stdout",
     "output_type": "stream",
     "text": [
      "MoviePy - Done.\n"
     ]
    },
    {
     "name": "stderr",
     "output_type": "stream",
     "text": [
      "\r"
     ]
    },
    {
     "name": "stdout",
     "output_type": "stream",
     "text": [
      "MoviePy - Writing audio in D:/EDU/Graduation Project/Project/Real-life_Deception_Detection_2016/Audio/Truthful\\trial_truth_010.wav\n"
     ]
    },
    {
     "name": "stderr",
     "output_type": "stream",
     "text": [
      "                                                                      \r"
     ]
    },
    {
     "name": "stdout",
     "output_type": "stream",
     "text": [
      "MoviePy - Done.\n",
      "MoviePy - Writing audio in D:/EDU/Graduation Project/Project/Real-life_Deception_Detection_2016/Audio/Truthful\\trial_truth_011.wav\n"
     ]
    },
    {
     "name": "stderr",
     "output_type": "stream",
     "text": [
      "                                                                    \r"
     ]
    },
    {
     "name": "stdout",
     "output_type": "stream",
     "text": [
      "MoviePy - Done.\n",
      "MoviePy - Writing audio in D:/EDU/Graduation Project/Project/Real-life_Deception_Detection_2016/Audio/Truthful\\trial_truth_012.wav\n"
     ]
    },
    {
     "name": "stderr",
     "output_type": "stream",
     "text": [
      "                                                                    "
     ]
    },
    {
     "name": "stdout",
     "output_type": "stream",
     "text": [
      "MoviePy - Done.\n"
     ]
    },
    {
     "name": "stderr",
     "output_type": "stream",
     "text": [
      "\r"
     ]
    },
    {
     "name": "stdout",
     "output_type": "stream",
     "text": [
      "MoviePy - Writing audio in D:/EDU/Graduation Project/Project/Real-life_Deception_Detection_2016/Audio/Truthful\\trial_truth_013.wav\n"
     ]
    },
    {
     "name": "stderr",
     "output_type": "stream",
     "text": [
      "                                                                    "
     ]
    },
    {
     "name": "stdout",
     "output_type": "stream",
     "text": [
      "MoviePy - Done.\n"
     ]
    },
    {
     "name": "stderr",
     "output_type": "stream",
     "text": [
      "\r"
     ]
    },
    {
     "name": "stdout",
     "output_type": "stream",
     "text": [
      "MoviePy - Writing audio in D:/EDU/Graduation Project/Project/Real-life_Deception_Detection_2016/Audio/Truthful\\trial_truth_014.wav\n"
     ]
    },
    {
     "name": "stderr",
     "output_type": "stream",
     "text": [
      "                                                        "
     ]
    },
    {
     "name": "stdout",
     "output_type": "stream",
     "text": [
      "MoviePy - Done.\n"
     ]
    },
    {
     "name": "stderr",
     "output_type": "stream",
     "text": [
      "\r"
     ]
    },
    {
     "name": "stdout",
     "output_type": "stream",
     "text": [
      "MoviePy - Writing audio in D:/EDU/Graduation Project/Project/Real-life_Deception_Detection_2016/Audio/Truthful\\trial_truth_015.wav\n"
     ]
    },
    {
     "name": "stderr",
     "output_type": "stream",
     "text": [
      "                                                                    \r"
     ]
    },
    {
     "name": "stdout",
     "output_type": "stream",
     "text": [
      "MoviePy - Done.\n",
      "MoviePy - Writing audio in D:/EDU/Graduation Project/Project/Real-life_Deception_Detection_2016/Audio/Truthful\\trial_truth_016.wav\n"
     ]
    },
    {
     "name": "stderr",
     "output_type": "stream",
     "text": [
      "                                                        "
     ]
    },
    {
     "name": "stdout",
     "output_type": "stream",
     "text": [
      "MoviePy - Done.\n"
     ]
    },
    {
     "name": "stderr",
     "output_type": "stream",
     "text": [
      "\r"
     ]
    },
    {
     "name": "stdout",
     "output_type": "stream",
     "text": [
      "MoviePy - Writing audio in D:/EDU/Graduation Project/Project/Real-life_Deception_Detection_2016/Audio/Truthful\\trial_truth_017.wav\n"
     ]
    },
    {
     "name": "stderr",
     "output_type": "stream",
     "text": [
      "                                                        "
     ]
    },
    {
     "name": "stdout",
     "output_type": "stream",
     "text": [
      "MoviePy - Done.\n"
     ]
    },
    {
     "name": "stderr",
     "output_type": "stream",
     "text": [
      "\r"
     ]
    },
    {
     "name": "stdout",
     "output_type": "stream",
     "text": [
      "MoviePy - Writing audio in D:/EDU/Graduation Project/Project/Real-life_Deception_Detection_2016/Audio/Truthful\\trial_truth_018.wav\n"
     ]
    },
    {
     "name": "stderr",
     "output_type": "stream",
     "text": [
      "                                                        "
     ]
    },
    {
     "name": "stdout",
     "output_type": "stream",
     "text": [
      "MoviePy - Done.\n"
     ]
    },
    {
     "name": "stderr",
     "output_type": "stream",
     "text": [
      "\r"
     ]
    },
    {
     "name": "stdout",
     "output_type": "stream",
     "text": [
      "MoviePy - Writing audio in D:/EDU/Graduation Project/Project/Real-life_Deception_Detection_2016/Audio/Truthful\\trial_truth_019.wav\n"
     ]
    },
    {
     "name": "stderr",
     "output_type": "stream",
     "text": [
      "                                                                    "
     ]
    },
    {
     "name": "stdout",
     "output_type": "stream",
     "text": [
      "MoviePy - Done.\n"
     ]
    },
    {
     "name": "stderr",
     "output_type": "stream",
     "text": [
      "\r"
     ]
    },
    {
     "name": "stdout",
     "output_type": "stream",
     "text": [
      "MoviePy - Writing audio in D:/EDU/Graduation Project/Project/Real-life_Deception_Detection_2016/Audio/Truthful\\trial_truth_020.wav\n"
     ]
    },
    {
     "name": "stderr",
     "output_type": "stream",
     "text": [
      "                                                        "
     ]
    },
    {
     "name": "stdout",
     "output_type": "stream",
     "text": [
      "MoviePy - Done.\n"
     ]
    },
    {
     "name": "stderr",
     "output_type": "stream",
     "text": [
      "\r"
     ]
    },
    {
     "name": "stdout",
     "output_type": "stream",
     "text": [
      "MoviePy - Writing audio in D:/EDU/Graduation Project/Project/Real-life_Deception_Detection_2016/Audio/Truthful\\trial_truth_021.wav\n"
     ]
    },
    {
     "name": "stderr",
     "output_type": "stream",
     "text": [
      "                                                                    "
     ]
    },
    {
     "name": "stdout",
     "output_type": "stream",
     "text": [
      "MoviePy - Done.\n"
     ]
    },
    {
     "name": "stderr",
     "output_type": "stream",
     "text": [
      "\r"
     ]
    },
    {
     "name": "stdout",
     "output_type": "stream",
     "text": [
      "MoviePy - Writing audio in D:/EDU/Graduation Project/Project/Real-life_Deception_Detection_2016/Audio/Truthful\\trial_truth_022.wav\n"
     ]
    },
    {
     "name": "stderr",
     "output_type": "stream",
     "text": [
      "                                                                    \r"
     ]
    },
    {
     "name": "stdout",
     "output_type": "stream",
     "text": [
      "MoviePy - Done.\n",
      "MoviePy - Writing audio in D:/EDU/Graduation Project/Project/Real-life_Deception_Detection_2016/Audio/Truthful\\trial_truth_023.wav\n"
     ]
    },
    {
     "name": "stderr",
     "output_type": "stream",
     "text": [
      "                                                                    "
     ]
    },
    {
     "name": "stdout",
     "output_type": "stream",
     "text": [
      "MoviePy - Done.\n"
     ]
    },
    {
     "name": "stderr",
     "output_type": "stream",
     "text": [
      "\r"
     ]
    },
    {
     "name": "stdout",
     "output_type": "stream",
     "text": [
      "MoviePy - Writing audio in D:/EDU/Graduation Project/Project/Real-life_Deception_Detection_2016/Audio/Truthful\\trial_truth_024.wav\n"
     ]
    },
    {
     "name": "stderr",
     "output_type": "stream",
     "text": [
      "                                                                    "
     ]
    },
    {
     "name": "stdout",
     "output_type": "stream",
     "text": [
      "MoviePy - Done.\n"
     ]
    },
    {
     "name": "stderr",
     "output_type": "stream",
     "text": [
      "\r"
     ]
    },
    {
     "name": "stdout",
     "output_type": "stream",
     "text": [
      "MoviePy - Writing audio in D:/EDU/Graduation Project/Project/Real-life_Deception_Detection_2016/Audio/Truthful\\trial_truth_025.wav\n"
     ]
    },
    {
     "name": "stderr",
     "output_type": "stream",
     "text": [
      "                                                                    \r"
     ]
    },
    {
     "name": "stdout",
     "output_type": "stream",
     "text": [
      "MoviePy - Done.\n",
      "MoviePy - Writing audio in D:/EDU/Graduation Project/Project/Real-life_Deception_Detection_2016/Audio/Truthful\\trial_truth_026.wav\n"
     ]
    },
    {
     "name": "stderr",
     "output_type": "stream",
     "text": [
      "                                                                    \r"
     ]
    },
    {
     "name": "stdout",
     "output_type": "stream",
     "text": [
      "MoviePy - Done.\n",
      "MoviePy - Writing audio in D:/EDU/Graduation Project/Project/Real-life_Deception_Detection_2016/Audio/Truthful\\trial_truth_027.wav\n"
     ]
    },
    {
     "name": "stderr",
     "output_type": "stream",
     "text": [
      "                                                                    "
     ]
    },
    {
     "name": "stdout",
     "output_type": "stream",
     "text": [
      "MoviePy - Done.\n"
     ]
    },
    {
     "name": "stderr",
     "output_type": "stream",
     "text": [
      "\r"
     ]
    },
    {
     "name": "stdout",
     "output_type": "stream",
     "text": [
      "MoviePy - Writing audio in D:/EDU/Graduation Project/Project/Real-life_Deception_Detection_2016/Audio/Truthful\\trial_truth_028.wav\n"
     ]
    },
    {
     "name": "stderr",
     "output_type": "stream",
     "text": [
      "                                                                    "
     ]
    },
    {
     "name": "stdout",
     "output_type": "stream",
     "text": [
      "MoviePy - Done.\n"
     ]
    },
    {
     "name": "stderr",
     "output_type": "stream",
     "text": [
      "\r"
     ]
    },
    {
     "name": "stdout",
     "output_type": "stream",
     "text": [
      "MoviePy - Writing audio in D:/EDU/Graduation Project/Project/Real-life_Deception_Detection_2016/Audio/Truthful\\trial_truth_029.wav\n"
     ]
    },
    {
     "name": "stderr",
     "output_type": "stream",
     "text": [
      "                                                                    "
     ]
    },
    {
     "name": "stdout",
     "output_type": "stream",
     "text": [
      "MoviePy - Done.\n"
     ]
    },
    {
     "name": "stderr",
     "output_type": "stream",
     "text": [
      "\r"
     ]
    },
    {
     "name": "stdout",
     "output_type": "stream",
     "text": [
      "MoviePy - Writing audio in D:/EDU/Graduation Project/Project/Real-life_Deception_Detection_2016/Audio/Truthful\\trial_truth_030.wav\n"
     ]
    },
    {
     "name": "stderr",
     "output_type": "stream",
     "text": [
      "                                                                     \r"
     ]
    },
    {
     "name": "stdout",
     "output_type": "stream",
     "text": [
      "MoviePy - Done.\n",
      "MoviePy - Writing audio in D:/EDU/Graduation Project/Project/Real-life_Deception_Detection_2016/Audio/Truthful\\trial_truth_031.wav\n"
     ]
    },
    {
     "name": "stderr",
     "output_type": "stream",
     "text": [
      "                                                                    "
     ]
    },
    {
     "name": "stdout",
     "output_type": "stream",
     "text": [
      "MoviePy - Done.\n"
     ]
    },
    {
     "name": "stderr",
     "output_type": "stream",
     "text": [
      "\r"
     ]
    },
    {
     "name": "stdout",
     "output_type": "stream",
     "text": [
      "MoviePy - Writing audio in D:/EDU/Graduation Project/Project/Real-life_Deception_Detection_2016/Audio/Truthful\\trial_truth_032.wav\n"
     ]
    },
    {
     "name": "stderr",
     "output_type": "stream",
     "text": [
      "                                                                    \r"
     ]
    },
    {
     "name": "stdout",
     "output_type": "stream",
     "text": [
      "MoviePy - Done.\n",
      "MoviePy - Writing audio in D:/EDU/Graduation Project/Project/Real-life_Deception_Detection_2016/Audio/Truthful\\trial_truth_033.wav\n"
     ]
    },
    {
     "name": "stderr",
     "output_type": "stream",
     "text": [
      "                                                                    "
     ]
    },
    {
     "name": "stdout",
     "output_type": "stream",
     "text": [
      "MoviePy - Done.\n"
     ]
    },
    {
     "name": "stderr",
     "output_type": "stream",
     "text": [
      "\r"
     ]
    },
    {
     "name": "stdout",
     "output_type": "stream",
     "text": [
      "MoviePy - Writing audio in D:/EDU/Graduation Project/Project/Real-life_Deception_Detection_2016/Audio/Truthful\\trial_truth_034.wav\n"
     ]
    },
    {
     "name": "stderr",
     "output_type": "stream",
     "text": [
      "                                                                    "
     ]
    },
    {
     "name": "stdout",
     "output_type": "stream",
     "text": [
      "MoviePy - Done.\n"
     ]
    },
    {
     "name": "stderr",
     "output_type": "stream",
     "text": [
      "\r"
     ]
    },
    {
     "name": "stdout",
     "output_type": "stream",
     "text": [
      "MoviePy - Writing audio in D:/EDU/Graduation Project/Project/Real-life_Deception_Detection_2016/Audio/Truthful\\trial_truth_035.wav\n"
     ]
    },
    {
     "name": "stderr",
     "output_type": "stream",
     "text": [
      "                                                                    \r"
     ]
    },
    {
     "name": "stdout",
     "output_type": "stream",
     "text": [
      "MoviePy - Done.\n",
      "MoviePy - Writing audio in D:/EDU/Graduation Project/Project/Real-life_Deception_Detection_2016/Audio/Truthful\\trial_truth_036.wav\n"
     ]
    },
    {
     "name": "stderr",
     "output_type": "stream",
     "text": [
      "                                                                    \r"
     ]
    },
    {
     "name": "stdout",
     "output_type": "stream",
     "text": [
      "MoviePy - Done.\n",
      "MoviePy - Writing audio in D:/EDU/Graduation Project/Project/Real-life_Deception_Detection_2016/Audio/Truthful\\trial_truth_037.wav\n"
     ]
    },
    {
     "name": "stderr",
     "output_type": "stream",
     "text": [
      "                                                                    "
     ]
    },
    {
     "name": "stdout",
     "output_type": "stream",
     "text": [
      "MoviePy - Done.\n"
     ]
    },
    {
     "name": "stderr",
     "output_type": "stream",
     "text": [
      "\r"
     ]
    },
    {
     "name": "stdout",
     "output_type": "stream",
     "text": [
      "MoviePy - Writing audio in D:/EDU/Graduation Project/Project/Real-life_Deception_Detection_2016/Audio/Truthful\\trial_truth_038.wav\n"
     ]
    },
    {
     "name": "stderr",
     "output_type": "stream",
     "text": [
      "                                                                    "
     ]
    },
    {
     "name": "stdout",
     "output_type": "stream",
     "text": [
      "MoviePy - Done.\n"
     ]
    },
    {
     "name": "stderr",
     "output_type": "stream",
     "text": [
      "\r"
     ]
    },
    {
     "name": "stdout",
     "output_type": "stream",
     "text": [
      "MoviePy - Writing audio in D:/EDU/Graduation Project/Project/Real-life_Deception_Detection_2016/Audio/Truthful\\trial_truth_039.wav\n"
     ]
    },
    {
     "name": "stderr",
     "output_type": "stream",
     "text": [
      "                                                                    \r"
     ]
    },
    {
     "name": "stdout",
     "output_type": "stream",
     "text": [
      "MoviePy - Done.\n",
      "MoviePy - Writing audio in D:/EDU/Graduation Project/Project/Real-life_Deception_Detection_2016/Audio/Truthful\\trial_truth_040.wav\n"
     ]
    },
    {
     "name": "stderr",
     "output_type": "stream",
     "text": [
      "                                                                    \r"
     ]
    },
    {
     "name": "stdout",
     "output_type": "stream",
     "text": [
      "MoviePy - Done.\n",
      "MoviePy - Writing audio in D:/EDU/Graduation Project/Project/Real-life_Deception_Detection_2016/Audio/Truthful\\trial_truth_041.wav\n"
     ]
    },
    {
     "name": "stderr",
     "output_type": "stream",
     "text": [
      "                                                                    "
     ]
    },
    {
     "name": "stdout",
     "output_type": "stream",
     "text": [
      "MoviePy - Done.\n"
     ]
    },
    {
     "name": "stderr",
     "output_type": "stream",
     "text": [
      "\r"
     ]
    },
    {
     "name": "stdout",
     "output_type": "stream",
     "text": [
      "MoviePy - Writing audio in D:/EDU/Graduation Project/Project/Real-life_Deception_Detection_2016/Audio/Truthful\\trial_truth_042.wav\n"
     ]
    },
    {
     "name": "stderr",
     "output_type": "stream",
     "text": [
      "                                                                    "
     ]
    },
    {
     "name": "stdout",
     "output_type": "stream",
     "text": [
      "MoviePy - Done.\n"
     ]
    },
    {
     "name": "stderr",
     "output_type": "stream",
     "text": [
      "\r"
     ]
    },
    {
     "name": "stdout",
     "output_type": "stream",
     "text": [
      "MoviePy - Writing audio in D:/EDU/Graduation Project/Project/Real-life_Deception_Detection_2016/Audio/Truthful\\trial_truth_043.wav\n"
     ]
    },
    {
     "name": "stderr",
     "output_type": "stream",
     "text": [
      "                                                                    "
     ]
    },
    {
     "name": "stdout",
     "output_type": "stream",
     "text": [
      "MoviePy - Done.\n"
     ]
    },
    {
     "name": "stderr",
     "output_type": "stream",
     "text": [
      "\r"
     ]
    },
    {
     "name": "stdout",
     "output_type": "stream",
     "text": [
      "MoviePy - Writing audio in D:/EDU/Graduation Project/Project/Real-life_Deception_Detection_2016/Audio/Truthful\\trial_truth_044.wav\n"
     ]
    },
    {
     "name": "stderr",
     "output_type": "stream",
     "text": [
      "                                                                    "
     ]
    },
    {
     "name": "stdout",
     "output_type": "stream",
     "text": [
      "MoviePy - Done.\n"
     ]
    },
    {
     "name": "stderr",
     "output_type": "stream",
     "text": [
      "\r"
     ]
    },
    {
     "name": "stdout",
     "output_type": "stream",
     "text": [
      "MoviePy - Writing audio in D:/EDU/Graduation Project/Project/Real-life_Deception_Detection_2016/Audio/Truthful\\trial_truth_045.wav\n"
     ]
    },
    {
     "name": "stderr",
     "output_type": "stream",
     "text": [
      "                                                                    \r"
     ]
    },
    {
     "name": "stdout",
     "output_type": "stream",
     "text": [
      "MoviePy - Done.\n",
      "MoviePy - Writing audio in D:/EDU/Graduation Project/Project/Real-life_Deception_Detection_2016/Audio/Truthful\\trial_truth_046.wav\n"
     ]
    },
    {
     "name": "stderr",
     "output_type": "stream",
     "text": [
      "                                                                    \r"
     ]
    },
    {
     "name": "stdout",
     "output_type": "stream",
     "text": [
      "MoviePy - Done.\n",
      "MoviePy - Writing audio in D:/EDU/Graduation Project/Project/Real-life_Deception_Detection_2016/Audio/Truthful\\trial_truth_047.wav\n"
     ]
    },
    {
     "name": "stderr",
     "output_type": "stream",
     "text": [
      "                                                                    "
     ]
    },
    {
     "name": "stdout",
     "output_type": "stream",
     "text": [
      "MoviePy - Done.\n"
     ]
    },
    {
     "name": "stderr",
     "output_type": "stream",
     "text": [
      "\r"
     ]
    },
    {
     "name": "stdout",
     "output_type": "stream",
     "text": [
      "MoviePy - Writing audio in D:/EDU/Graduation Project/Project/Real-life_Deception_Detection_2016/Audio/Truthful\\trial_truth_048.wav\n"
     ]
    },
    {
     "name": "stderr",
     "output_type": "stream",
     "text": [
      "                                                                    "
     ]
    },
    {
     "name": "stdout",
     "output_type": "stream",
     "text": [
      "MoviePy - Done.\n"
     ]
    },
    {
     "name": "stderr",
     "output_type": "stream",
     "text": [
      "\r"
     ]
    },
    {
     "name": "stdout",
     "output_type": "stream",
     "text": [
      "MoviePy - Writing audio in D:/EDU/Graduation Project/Project/Real-life_Deception_Detection_2016/Audio/Truthful\\trial_truth_049.wav\n"
     ]
    },
    {
     "name": "stderr",
     "output_type": "stream",
     "text": [
      "                                                                    "
     ]
    },
    {
     "name": "stdout",
     "output_type": "stream",
     "text": [
      "MoviePy - Done.\n"
     ]
    },
    {
     "name": "stderr",
     "output_type": "stream",
     "text": [
      "\r"
     ]
    },
    {
     "name": "stdout",
     "output_type": "stream",
     "text": [
      "MoviePy - Writing audio in D:/EDU/Graduation Project/Project/Real-life_Deception_Detection_2016/Audio/Truthful\\trial_truth_050.wav\n"
     ]
    },
    {
     "name": "stderr",
     "output_type": "stream",
     "text": [
      "                                                                    "
     ]
    },
    {
     "name": "stdout",
     "output_type": "stream",
     "text": [
      "MoviePy - Done.\n"
     ]
    },
    {
     "name": "stderr",
     "output_type": "stream",
     "text": [
      "\r"
     ]
    },
    {
     "name": "stdout",
     "output_type": "stream",
     "text": [
      "MoviePy - Writing audio in D:/EDU/Graduation Project/Project/Real-life_Deception_Detection_2016/Audio/Truthful\\trial_truth_051.wav\n"
     ]
    },
    {
     "name": "stderr",
     "output_type": "stream",
     "text": [
      "                                                                    "
     ]
    },
    {
     "name": "stdout",
     "output_type": "stream",
     "text": [
      "MoviePy - Done.\n"
     ]
    },
    {
     "name": "stderr",
     "output_type": "stream",
     "text": [
      "\r"
     ]
    },
    {
     "name": "stdout",
     "output_type": "stream",
     "text": [
      "MoviePy - Writing audio in D:/EDU/Graduation Project/Project/Real-life_Deception_Detection_2016/Audio/Truthful\\trial_truth_052.wav\n"
     ]
    },
    {
     "name": "stderr",
     "output_type": "stream",
     "text": [
      "                                                                    "
     ]
    },
    {
     "name": "stdout",
     "output_type": "stream",
     "text": [
      "MoviePy - Done.\n"
     ]
    },
    {
     "name": "stderr",
     "output_type": "stream",
     "text": [
      "\r"
     ]
    },
    {
     "name": "stdout",
     "output_type": "stream",
     "text": [
      "MoviePy - Writing audio in D:/EDU/Graduation Project/Project/Real-life_Deception_Detection_2016/Audio/Truthful\\trial_truth_053.wav\n"
     ]
    },
    {
     "name": "stderr",
     "output_type": "stream",
     "text": [
      "                                                                    \r"
     ]
    },
    {
     "name": "stdout",
     "output_type": "stream",
     "text": [
      "MoviePy - Done.\n",
      "MoviePy - Writing audio in D:/EDU/Graduation Project/Project/Real-life_Deception_Detection_2016/Audio/Truthful\\trial_truth_054.wav\n"
     ]
    },
    {
     "name": "stderr",
     "output_type": "stream",
     "text": [
      "                                                                    "
     ]
    },
    {
     "name": "stdout",
     "output_type": "stream",
     "text": [
      "MoviePy - Done.\n"
     ]
    },
    {
     "name": "stderr",
     "output_type": "stream",
     "text": [
      "\r"
     ]
    },
    {
     "name": "stdout",
     "output_type": "stream",
     "text": [
      "MoviePy - Writing audio in D:/EDU/Graduation Project/Project/Real-life_Deception_Detection_2016/Audio/Truthful\\trial_truth_055.wav\n"
     ]
    },
    {
     "name": "stderr",
     "output_type": "stream",
     "text": [
      "                                                                    "
     ]
    },
    {
     "name": "stdout",
     "output_type": "stream",
     "text": [
      "MoviePy - Done.\n"
     ]
    },
    {
     "name": "stderr",
     "output_type": "stream",
     "text": [
      "\r"
     ]
    },
    {
     "name": "stdout",
     "output_type": "stream",
     "text": [
      "MoviePy - Writing audio in D:/EDU/Graduation Project/Project/Real-life_Deception_Detection_2016/Audio/Truthful\\trial_truth_056.wav\n"
     ]
    },
    {
     "name": "stderr",
     "output_type": "stream",
     "text": [
      "                                                                    \r"
     ]
    },
    {
     "name": "stdout",
     "output_type": "stream",
     "text": [
      "MoviePy - Done.\n",
      "MoviePy - Writing audio in D:/EDU/Graduation Project/Project/Real-life_Deception_Detection_2016/Audio/Truthful\\trial_truth_057.wav\n"
     ]
    },
    {
     "name": "stderr",
     "output_type": "stream",
     "text": [
      "                                                                    \r"
     ]
    },
    {
     "name": "stdout",
     "output_type": "stream",
     "text": [
      "MoviePy - Done.\n",
      "MoviePy - Writing audio in D:/EDU/Graduation Project/Project/Real-life_Deception_Detection_2016/Audio/Truthful\\trial_truth_058.wav\n"
     ]
    },
    {
     "name": "stderr",
     "output_type": "stream",
     "text": [
      "                                                                    "
     ]
    },
    {
     "name": "stdout",
     "output_type": "stream",
     "text": [
      "MoviePy - Done.\n"
     ]
    },
    {
     "name": "stderr",
     "output_type": "stream",
     "text": [
      "\r"
     ]
    },
    {
     "name": "stdout",
     "output_type": "stream",
     "text": [
      "MoviePy - Writing audio in D:/EDU/Graduation Project/Project/Real-life_Deception_Detection_2016/Audio/Truthful\\trial_truth_059.wav\n"
     ]
    },
    {
     "name": "stderr",
     "output_type": "stream",
     "text": [
      "                                                                    "
     ]
    },
    {
     "name": "stdout",
     "output_type": "stream",
     "text": [
      "MoviePy - Done.\n"
     ]
    },
    {
     "name": "stderr",
     "output_type": "stream",
     "text": [
      "\r"
     ]
    },
    {
     "name": "stdout",
     "output_type": "stream",
     "text": [
      "MoviePy - Writing audio in D:/EDU/Graduation Project/Project/Real-life_Deception_Detection_2016/Audio/Truthful\\trial_truth_060.wav\n"
     ]
    },
    {
     "name": "stderr",
     "output_type": "stream",
     "text": [
      "                                                                    "
     ]
    },
    {
     "name": "stdout",
     "output_type": "stream",
     "text": [
      "MoviePy - Done.\n"
     ]
    },
    {
     "name": "stderr",
     "output_type": "stream",
     "text": [
      "\r"
     ]
    }
   ],
   "source": [
    "def extract_audio(input_file, output_file):\n",
    "    try:\n",
    "        video = VideoFileClip(input_file)\n",
    "        audio = video.audio\n",
    "        audio.write_audiofile(output_file)\n",
    "    except Exception as e:\n",
    "        print(f\"Error: {e}\")\n",
    "\n",
    "def main():\n",
    "    directory = 'D:/EDU/Graduation Project/Project/Real-life_Deception_Detection_2016/Clips/Truthful'\n",
    "    output_directory = 'D:/EDU/Graduation Project/Project/Real-life_Deception_Detection_2016/Audio/Truthful'\n",
    "\n",
    "    for filename in os.listdir(directory):\n",
    "        if filename.endswith('.mp4'):\n",
    "            input_file = os.path.join(directory, filename)\n",
    "            output_file = os.path.join(output_directory, os.path.splitext(filename)[0] + '.wav')\n",
    "            extract_audio(input_file, output_file)\n",
    "\n",
    "if __name__ == \"__main__\":\n",
    "    main()"
   ]
  }
 ],
 "metadata": {
  "kernelspec": {
   "display_name": "base",
   "language": "python",
   "name": "python3"
  },
  "language_info": {
   "codemirror_mode": {
    "name": "ipython",
    "version": 3
   },
   "file_extension": ".py",
   "mimetype": "text/x-python",
   "name": "python",
   "nbconvert_exporter": "python",
   "pygments_lexer": "ipython3",
   "version": "3.9.18"
  }
 },
 "nbformat": 4,
 "nbformat_minor": 2
}
