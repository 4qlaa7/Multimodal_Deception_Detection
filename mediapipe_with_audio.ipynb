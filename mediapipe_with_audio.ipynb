{
 "cells": [
  {
   "cell_type": "code",
   "execution_count": 2,
   "metadata": {},
   "outputs": [],
   "source": [
    "import cv2\n",
    "import os\n",
    "import numpy as np\n",
    "import librosa\n",
    "import mediapipe as mp\n",
    "\n",
    "mp_face_mesh = mp.solutions.face_mesh\n",
    "face_mesh = mp_face_mesh.FaceMesh(static_image_mode=True, max_num_faces=1, min_detection_confidence=0.5)"
   ]
  },
  {
   "cell_type": "code",
   "execution_count": 3,
   "metadata": {},
   "outputs": [],
   "source": [
    "\n",
    "\n",
    "# Function to process audio and get MFCC features\n",
    "def get_mfcc_features(audio_path):\n",
    "    y, sr = librosa.load(audio_path, sr=None)\n",
    "    mfcc = librosa.feature.mfcc(y=y, sr=sr, n_mfcc=13)\n",
    "    mfcc_mean = np.mean(mfcc, axis=1)\n",
    "    return mfcc_mean\n",
    "\n",
    "# Function to process video and get facial landmarks for each frame using MediaPipe\n",
    "def process_video(video_path):\n",
    "    cap = cv2.VideoCapture(video_path)\n",
    "    frame_landmarks = []\n",
    "    while True:\n",
    "        ret, frame = cap.read()\n",
    "        if not ret:\n",
    "            break\n",
    "        rgb_frame = cv2.cvtColor(frame, cv2.COLOR_BGR2RGB)\n",
    "        results = face_mesh.process(rgb_frame)\n",
    "        \n",
    "        if results.multi_face_landmarks:\n",
    "            for face_landmarks in results.multi_face_landmarks:\n",
    "                landmark = np.array([(lm.x, lm.y, lm.z) for lm in face_landmarks.landmark]).flatten()\n",
    "                frame_landmarks.append(landmark)\n",
    "    \n",
    "    cap.release()\n",
    "    return frame_landmarks\n",
    "\n",
    "# Function to read data from files and combine features\n",
    "def read_data_from_files(main_directory_audio, main_directory_video):\n",
    "    data = []\n",
    "    \n",
    "    for class_folder in os.listdir(main_directory_audio):\n",
    "        class_folder_path_audio = os.path.join(main_directory_audio, class_folder)\n",
    "        class_folder_path_video = os.path.join(main_directory_video, class_folder)\n",
    "        \n",
    "        if os.path.isdir(class_folder_path_audio) and os.path.isdir(class_folder_path_video):\n",
    "            audio_files = {f[:-4]: f for f in os.listdir(class_folder_path_audio) if f.endswith('.wav')}\n",
    "            video_files = {f[:-4]: f for f in os.listdir(class_folder_path_video) if f.endswith('.mp4')}\n",
    "            common_files = set(audio_files.keys()).intersection(video_files.keys())\n",
    "            \n",
    "            for base_name in common_files:\n",
    "                filepath_audio = os.path.join(class_folder_path_audio, audio_files[base_name])\n",
    "                filepath_video = os.path.join(class_folder_path_video, video_files[base_name])\n",
    "                print(base_name)\n",
    "                \n",
    "                mfcc_features = get_mfcc_features(filepath_audio)\n",
    "                \n",
    "                frame_landmarks = process_video(filepath_video)\n",
    "                \n",
    "                for landmark in frame_landmarks:\n",
    "                    if landmark.size > 0:\n",
    "                        combined_features = np.concatenate([mfcc_features, landmark])\n",
    "                        data.append((combined_features, class_folder))\n",
    "                    else:\n",
    "                        print(f\"No landmarks found for frame in video {base_name}, skipping.\")\n",
    "    \n",
    "    return data\n",
    "\n",
    "\n"
   ]
  },
  {
   "cell_type": "code",
   "execution_count": 4,
   "metadata": {},
   "outputs": [
    {
     "name": "stdout",
     "output_type": "stream",
     "text": [
      "trial_lie_006\n",
      "trial_lie_034\n",
      "trial_lie_012\n",
      "trial_lie_051\n",
      "trial_lie_044\n",
      "trial_lie_056\n",
      "trial_lie_013\n",
      "trial_lie_026\n",
      "trial_lie_048\n",
      "trial_lie_009\n",
      "trial_lie_010\n",
      "trial_lie_019\n",
      "trial_lie_046\n",
      "trial_lie_033\n",
      "trial_lie_029\n",
      "trial_lie_043\n",
      "trial_lie_003\n",
      "trial_lie_008\n",
      "trial_lie_004\n",
      "trial_lie_007\n",
      "trial_lie_023\n",
      "trial_lie_039\n",
      "trial_lie_032\n",
      "trial_lie_053\n",
      "trial_lie_054\n",
      "trial_lie_021\n",
      "trial_lie_015\n",
      "trial_lie_047\n",
      "trial_lie_014\n",
      "trial_lie_035\n",
      "trial_lie_038\n",
      "trial_lie_045\n",
      "trial_lie_058\n",
      "trial_lie_049\n",
      "trial_lie_001\n",
      "trial_lie_037\n",
      "trial_lie_040\n",
      "trial_lie_042\n",
      "trial_lie_059\n",
      "trial_lie_060\n",
      "trial_lie_020\n",
      "trial_lie_052\n",
      "trial_lie_024\n",
      "trial_lie_057\n",
      "trial_lie_002\n",
      "trial_lie_025\n",
      "trial_lie_041\n",
      "trial_lie_005\n",
      "trial_lie_018\n",
      "trial_lie_031\n",
      "trial_lie_055\n",
      "trial_lie_022\n",
      "trial_lie_050\n",
      "trial_lie_017\n",
      "trial_lie_011\n",
      "trial_lie_028\n",
      "trial_lie_030\n",
      "trial_lie_061\n",
      "trial_lie_027\n",
      "trial_lie_036\n",
      "trial_lie_016\n",
      "trial_truth_047\n",
      "trial_truth_044\n",
      "trial_truth_051\n",
      "trial_truth_028\n",
      "trial_truth_037\n",
      "trial_truth_040\n",
      "trial_truth_012\n",
      "trial_truth_002\n",
      "trial_truth_043\n",
      "trial_truth_049\n",
      "trial_truth_060\n",
      "trial_truth_046\n",
      "trial_truth_017\n",
      "trial_truth_039\n",
      "trial_truth_021\n",
      "trial_truth_023\n",
      "trial_truth_009\n",
      "trial_truth_035\n",
      "trial_truth_029\n",
      "trial_truth_019\n",
      "trial_truth_057\n",
      "trial_truth_003\n",
      "trial_truth_033\n",
      "trial_truth_056\n",
      "trial_truth_004\n",
      "trial_truth_025\n",
      "trial_truth_038\n",
      "trial_truth_036\n",
      "trial_truth_024\n",
      "trial_truth_030\n",
      "trial_truth_011\n",
      "trial_truth_001\n",
      "trial_truth_027\n",
      "trial_truth_053\n",
      "trial_truth_059\n",
      "trial_truth_016\n",
      "trial_truth_050\n",
      "trial_truth_034\n",
      "trial_truth_006\n",
      "trial_truth_045\n",
      "trial_truth_005\n",
      "trial_truth_031\n",
      "trial_truth_022\n",
      "trial_truth_032\n",
      "trial_truth_042\n",
      "trial_truth_048\n",
      "trial_truth_052\n",
      "trial_truth_055\n",
      "trial_truth_015\n",
      "trial_truth_008\n",
      "trial_truth_058\n",
      "trial_truth_007\n",
      "trial_truth_020\n",
      "trial_truth_013\n",
      "trial_truth_014\n",
      "trial_truth_018\n",
      "trial_truth_026\n",
      "trial_truth_041\n",
      "trial_truth_010\n",
      "trial_truth_054\n",
      "Features shape: (78524, 1417)\n",
      "Labels shape: (78524,)\n"
     ]
    }
   ],
   "source": [
    "# Example usage\n",
    "data_directory_audio = 'Real-life_Deception_Detection_2016/Audio'\n",
    "data_directory_video = 'Real-life_Deception_Detection_2016/Clips'\n",
    "data = read_data_from_files(data_directory_audio, data_directory_video)\n",
    "\n",
    "# Separate features and labels\n",
    "features = np.array([d[0] for d in data])\n",
    "labels = np.array([d[1] for d in data])\n",
    "\n",
    "print(\"Features shape:\", features.shape)\n",
    "print(\"Labels shape:\", labels.shape)"
   ]
  },
  {
   "cell_type": "code",
   "execution_count": 5,
   "metadata": {},
   "outputs": [
    {
     "name": "stdout",
     "output_type": "stream",
     "text": [
      "Features shape: (78524, 1417)\n",
      "Labels shape: (78524,)\n",
      "Data saved to data.pkl\n"
     ]
    }
   ],
   "source": [
    "import pickle\n",
    "\n",
    "# Print the shapes of the features and labels\n",
    "print(\"Features shape:\", features.shape)\n",
    "print(\"Labels shape:\", labels.shape)\n",
    "\n",
    "# Save features and labels to a pkl file\n",
    "with open('MediaAudio.pkl', 'wb') as file:\n",
    "    pickle.dump((features, labels), file)\n",
    "\n",
    "print(\"Data saved to data.pkl\")"
   ]
  },
  {
   "cell_type": "code",
   "execution_count": 1,
   "metadata": {},
   "outputs": [
    {
     "name": "stdout",
     "output_type": "stream",
     "text": [
      "Features shape: (78524, 1417)\n",
      "Labels shape: (78524,)\n"
     ]
    }
   ],
   "source": [
    "import pickle\n",
    "\n",
    "# Load features and labels from the pkl file\n",
    "with open('MediaAudio.pkl', 'rb') as file:\n",
    "    features, labels = pickle.load(file)\n",
    "\n",
    "print(\"Features shape:\", features.shape)\n",
    "print(\"Labels shape:\", labels.shape)"
   ]
  },
  {
   "cell_type": "code",
   "execution_count": 2,
   "metadata": {},
   "outputs": [
    {
     "name": "stdout",
     "output_type": "stream",
     "text": [
      "                0           1          2          3         4          5  \\\n",
      "0     -321.289398  131.572754  -9.841522  31.582964  2.458299   2.415217   \n",
      "1     -321.289398  131.572754  -9.841522  31.582964  2.458299   2.415217   \n",
      "2     -321.289398  131.572754  -9.841522  31.582964  2.458299   2.415217   \n",
      "3     -321.289398  131.572754  -9.841522  31.582964  2.458299   2.415217   \n",
      "4     -321.289398  131.572754  -9.841522  31.582964  2.458299   2.415217   \n",
      "...           ...         ...        ...        ...       ...        ...   \n",
      "78519 -519.300049  135.141190 -21.046791  33.217300 -6.210795  15.608702   \n",
      "78520 -519.300049  135.141190 -21.046791  33.217300 -6.210795  15.608702   \n",
      "78521 -519.300049  135.141190 -21.046791  33.217300 -6.210795  15.608702   \n",
      "78522 -519.300049  135.141190 -21.046791  33.217300 -6.210795  15.608702   \n",
      "78523 -519.300049  135.141190 -21.046791  33.217300 -6.210795  15.608702   \n",
      "\n",
      "               6          7         8          9  ...      1408      1409  \\\n",
      "0      -3.793975 -10.879507 -2.396571 -15.627265  ...  0.478099  0.344451   \n",
      "1      -3.793975 -10.879507 -2.396571 -15.627265  ...  0.478045  0.344442   \n",
      "2      -3.793975 -10.879507 -2.396571 -15.627265  ...  0.478045  0.344442   \n",
      "3      -3.793975 -10.879507 -2.396571 -15.627265  ...  0.478045  0.344442   \n",
      "4      -3.793975 -10.879507 -2.396571 -15.627265  ...  0.478045  0.344442   \n",
      "...          ...        ...       ...        ...  ...       ...       ...   \n",
      "78519 -12.441160  -3.137906 -8.689997  -5.545126  ...  0.537265  0.377480   \n",
      "78520 -12.441160  -3.137906 -8.689997  -5.545126  ...  0.536078  0.377762   \n",
      "78521 -12.441160  -3.137906 -8.689997  -5.545126  ...  0.535065  0.376717   \n",
      "78522 -12.441160  -3.137906 -8.689997  -5.545126  ...  0.534486  0.376898   \n",
      "78523 -12.441160  -3.137906 -8.689997  -5.545126  ...  0.534348  0.375916   \n",
      "\n",
      "           1410      1411      1412      1413      1414      1415      1416  \\\n",
      "0     -0.007600  0.519307  0.320039 -0.015973  0.523099  0.312891 -0.017581   \n",
      "1     -0.007726  0.519246  0.319943 -0.016228  0.523047  0.312734 -0.017844   \n",
      "2     -0.007726  0.519246  0.319943 -0.016228  0.523047  0.312734 -0.017844   \n",
      "3     -0.007726  0.519246  0.319943 -0.016228  0.523047  0.312734 -0.017844   \n",
      "4     -0.007726  0.519246  0.319943 -0.016228  0.523047  0.312734 -0.017844   \n",
      "...         ...       ...       ...       ...       ...       ...       ...   \n",
      "78519 -0.020434  0.598328  0.346947 -0.020720  0.604054  0.335997 -0.022110   \n",
      "78520 -0.019752  0.597356  0.347167 -0.021128  0.603087  0.335845 -0.022618   \n",
      "78521 -0.018534  0.595486  0.347141 -0.019479  0.601146  0.335610 -0.020886   \n",
      "78522 -0.018184  0.594925  0.345392 -0.017944  0.600527  0.334234 -0.019309   \n",
      "78523 -0.018670  0.595114  0.344714 -0.019554  0.600718  0.333469 -0.021002   \n",
      "\n",
      "           label  \n",
      "0      Deceptive  \n",
      "1      Deceptive  \n",
      "2      Deceptive  \n",
      "3      Deceptive  \n",
      "4      Deceptive  \n",
      "...          ...  \n",
      "78519   Truthful  \n",
      "78520   Truthful  \n",
      "78521   Truthful  \n",
      "78522   Truthful  \n",
      "78523   Truthful  \n",
      "\n",
      "[78524 rows x 1418 columns]\n"
     ]
    }
   ],
   "source": [
    "import pandas as pd\n",
    "\n",
    "features_df = pd.DataFrame(features)\n",
    "features_df['label'] = labels\n",
    "\n",
    "print(features_df)"
   ]
  },
  {
   "cell_type": "code",
   "execution_count": 3,
   "metadata": {},
   "outputs": [],
   "source": [
    "from sklearn.model_selection import train_test_split\n",
    "# Split into training, validation, and test sets\n",
    "train_df, test_df = train_test_split(features_df, test_size=0.2, random_state=42)\n",
    "# 0.25 x 0.8 = 0.2\n",
    "train_df, val_df = train_test_split(train_df, test_size=0.25, random_state=42)"
   ]
  },
  {
   "cell_type": "code",
   "execution_count": 4,
   "metadata": {},
   "outputs": [
    {
     "name": "stdout",
     "output_type": "stream",
     "text": [
      "(47114, 1418)\n",
      "(15705, 1418)\n",
      "(15705, 1418)\n"
     ]
    }
   ],
   "source": [
    "print(train_df.shape)\n",
    "print(test_df.shape)\n",
    "print(val_df.shape)"
   ]
  },
  {
   "cell_type": "code",
   "execution_count": 5,
   "metadata": {},
   "outputs": [],
   "source": [
    "def separate_features_and_labels(df):\n",
    "    X = df.drop(columns=['label']).values  # Drop the label column to get features\n",
    "    y = df['label'].apply(lambda x: 1 if x == 'Truthful' else 0).values  # Convert labels to binary\n",
    "    return X, y\n",
    "\n",
    "X_train, y_train = separate_features_and_labels(train_df)\n",
    "X_val, y_val = separate_features_and_labels(val_df)\n",
    "X_test, y_test = separate_features_and_labels(test_df)"
   ]
  },
  {
   "cell_type": "code",
   "execution_count": 6,
   "metadata": {},
   "outputs": [],
   "source": [
    "X_train = X_train.reshape((X_train.shape[0], 1, X_train.shape[1]))\n",
    "X_val = X_val.reshape((X_val.shape[0], 1, X_val.shape[1]))\n",
    "X_test = X_test.reshape((X_test.shape[0], 1, X_test.shape[1]))"
   ]
  },
  {
   "cell_type": "code",
   "execution_count": 7,
   "metadata": {},
   "outputs": [
    {
     "name": "stdout",
     "output_type": "stream",
     "text": [
      "Model: \"sequential\"\n",
      "_________________________________________________________________\n",
      " Layer (type)                Output Shape              Param #   \n",
      "=================================================================\n",
      " lstm (LSTM)                 (None, 1, 1024)           10002432  \n",
      "                                                                 \n",
      " dropout (Dropout)           (None, 1, 1024)           0         \n",
      "                                                                 \n",
      " lstm_1 (LSTM)               (None, 1, 512)            3147776   \n",
      "                                                                 \n",
      " dropout_1 (Dropout)         (None, 1, 512)            0         \n",
      "                                                                 \n",
      " lstm_2 (LSTM)               (None, 256)               787456    \n",
      "                                                                 \n",
      " dropout_2 (Dropout)         (None, 256)               0         \n",
      "                                                                 \n",
      " dense (Dense)               (None, 1)                 257       \n",
      "                                                                 \n",
      "=================================================================\n",
      "Total params: 13,937,921\n",
      "Trainable params: 13,937,921\n",
      "Non-trainable params: 0\n",
      "_________________________________________________________________\n"
     ]
    }
   ],
   "source": [
    "import tensorflow as tf\n",
    "from tensorflow.keras import layers, models\n",
    "\n",
    "input_shape = (X_train.shape[1], X_train.shape[2])  # (timesteps, features)\n",
    "model = models.Sequential([\n",
    "    layers.LSTM(1024, input_shape=input_shape, return_sequences=True),\n",
    "    layers.Dropout(0.2),\n",
    "    layers.LSTM(512, return_sequences=True),\n",
    "    layers.Dropout(0.2),\n",
    "    layers.LSTM(256, return_sequences=False),\n",
    "    layers.Dropout(0.2),\n",
    "    layers.Dense(1, activation='sigmoid')\n",
    "])\n",
    "\n",
    "learning_rate = 0.0001\n",
    "optimizer = tf.keras.optimizers.Adam(learning_rate=learning_rate)\n",
    "model.compile(optimizer=optimizer,\n",
    "              loss='binary_crossentropy',\n",
    "              metrics=['accuracy'])\n",
    "\n",
    "model.summary()"
   ]
  },
  {
   "cell_type": "code",
   "execution_count": 8,
   "metadata": {},
   "outputs": [
    {
     "name": "stdout",
     "output_type": "stream",
     "text": [
      "Epoch 1/10\n",
      "737/737 [==============================] - 12s 14ms/step - loss: 0.2011 - accuracy: 0.9042 - val_loss: 0.0627 - val_accuracy: 0.9712\n",
      "Epoch 2/10\n",
      "737/737 [==============================] - 9s 12ms/step - loss: 0.0713 - accuracy: 0.9650 - val_loss: 0.0503 - val_accuracy: 0.9864\n",
      "Epoch 3/10\n",
      "737/737 [==============================] - 9s 12ms/step - loss: 0.0541 - accuracy: 0.9761 - val_loss: 0.0417 - val_accuracy: 0.9705\n",
      "Epoch 4/10\n",
      "737/737 [==============================] - 9s 12ms/step - loss: 0.0399 - accuracy: 0.9838 - val_loss: 0.0148 - val_accuracy: 0.9962\n",
      "Epoch 5/10\n",
      "737/737 [==============================] - 9s 12ms/step - loss: 0.0264 - accuracy: 0.9888 - val_loss: 0.0286 - val_accuracy: 0.9769\n",
      "Epoch 6/10\n",
      "737/737 [==============================] - 9s 12ms/step - loss: 0.0224 - accuracy: 0.9897 - val_loss: 0.0055 - val_accuracy: 0.9964\n",
      "Epoch 7/10\n",
      "737/737 [==============================] - 9s 12ms/step - loss: 0.0149 - accuracy: 0.9951 - val_loss: 0.0031 - val_accuracy: 0.9999\n",
      "Epoch 8/10\n",
      "737/737 [==============================] - 9s 12ms/step - loss: 0.0086 - accuracy: 0.9975 - val_loss: 0.0021 - val_accuracy: 0.9999\n",
      "Epoch 9/10\n",
      "737/737 [==============================] - 9s 13ms/step - loss: 0.0061 - accuracy: 0.9983 - val_loss: 0.0017 - val_accuracy: 0.9999\n",
      "Epoch 10/10\n",
      "737/737 [==============================] - 9s 12ms/step - loss: 0.0062 - accuracy: 0.9985 - val_loss: 0.0014 - val_accuracy: 0.9999\n",
      "491/491 [==============================] - 2s 5ms/step - loss: 0.0023 - accuracy: 0.9999\n",
      "Test Accuracy: 0.9999\n",
      "Test Loss: 0.0023\n"
     ]
    }
   ],
   "source": [
    "batch_size = 64\n",
    "epochs = 10\n",
    "\n",
    "history = model.fit(X_train, y_train,\n",
    "                    epochs=epochs,\n",
    "                    batch_size=batch_size,\n",
    "                    validation_data=(X_val, y_val))\n",
    "\n",
    "# Evaluate the model\n",
    "test_loss, test_accuracy = model.evaluate(X_test, y_test)\n",
    "print(f'Test Accuracy: {test_accuracy:.4f}')\n",
    "print(f'Test Loss: {test_loss:.4f}')"
   ]
  },
  {
   "cell_type": "code",
   "execution_count": 9,
   "metadata": {},
   "outputs": [],
   "source": [
    "model.save('mediapipe_with_audio.h5')"
   ]
  },
  {
   "cell_type": "code",
   "execution_count": 9,
   "metadata": {},
   "outputs": [
    {
     "name": "stdout",
     "output_type": "stream",
     "text": [
      "491/491 [==============================] - 3s 5ms/step - loss: 0.0023 - accuracy: 0.9999\n",
      "Test Accuracy: 0.9999\n",
      "Test Loss: 0.0023\n"
     ]
    }
   ],
   "source": [
    "#loaded_model = tf.keras.models.load_model('mediapipe_with_audio.h5')\n",
    "test_loss, test_accuracy = model.evaluate(X_test, y_test)\n",
    "print(f'Test Accuracy: {test_accuracy:.4f}')\n",
    "print(f'Test Loss: {test_loss:.4f}')"
   ]
  },
  {
   "cell_type": "code",
   "execution_count": 15,
   "metadata": {},
   "outputs": [
    {
     "name": "stdout",
     "output_type": "stream",
     "text": [
      "491/491 [==============================] - 3s 5ms/step - loss: 0.0049 - accuracy: 0.9999\n",
      "Test Accuracy: 0.999872624874115\n",
      "Confusion Matrix:\n",
      "[[7735    2]\n",
      " [   0 7968]]\n"
     ]
    },
    {
     "data": {
      "image/png": "[encoded data removed]",
      "text/plain": [
       "<Figure size 800x600 with 2 Axes>"
      ]
     },
     "metadata": {},
     "output_type": "display_data"
    },
    {
     "name": "stdout",
     "output_type": "stream",
     "text": [
      "Precision: 0.9997490589711417\n",
      "Recall: 1.0\n",
      "F1 Score: 0.9998745137407454\n"
     ]
    }
   ],
   "source": [
    "import tensorflow as tf\n",
    "import numpy as np\n",
    "from sklearn.metrics import classification_report, precision_score, recall_score, f1_score, confusion_matrix\n",
    "import matplotlib.pyplot as plt\n",
    "import seaborn as sns\n",
    "\n",
    "# Load the model\n",
    "loaded_model = tf.keras.models.load_model('mediapipe_with_audio.h5')\n",
    "\n",
    "# Evaluate the model on the test set\n",
    "test_loss, test_accuracy = loaded_model.evaluate(X_test, y_test)\n",
    "print(f\"Test Accuracy: {test_accuracy}\")\n",
    "\n",
    "# Predict probabilities\n",
    "test_probabilities = loaded_model.predict(X_test)\n",
    "test_predictions = (test_probabilities > 0.5).astype(int)\n",
    "\n",
    "# Encode the labels\n",
    "from sklearn.preprocessing import LabelEncoder\n",
    "encoder = LabelEncoder()\n",
    "encoder.fit(y_test)\n",
    "\n",
    "# Calculate the confusion matrix\n",
    "cm = confusion_matrix(y_test, test_predictions)\n",
    "\n",
    "# Print the confusion matrix\n",
    "print(\"Confusion Matrix:\")\n",
    "print(cm)\n",
    "\n",
    "# Plot the confusion matrix\n",
    "plt.figure(figsize=(8, 6))\n",
    "sns.heatmap(cm, annot=True, fmt=\"d\", cmap=\"Blues\", xticklabels=encoder.classes_, yticklabels=encoder.classes_)\n",
    "plt.title('Confusion Matrix')\n",
    "plt.xlabel('Predicted Label')\n",
    "plt.ylabel('True Label')\n",
    "plt.show()\n",
    "\n",
    "# Calculate and print precision, recall, and F1 score\n",
    "precision = precision_score(y_test, test_predictions, average='binary')\n",
    "recall = recall_score(y_test, test_predictions, average='binary')\n",
    "f1 = f1_score(y_test, test_predictions, average='binary')\n",
    "\n",
    "print(f\"Precision: {precision}\")\n",
    "print(f\"Recall: {recall}\")\n",
    "print(f\"F1 Score: {f1}\")\n",
    "\n",
    "\n"
   ]
  }
 ],
 "metadata": {
  "kernelspec": {
   "display_name": "env",
   "language": "python",
   "name": "python3"
  },
  "language_info": {
   "codemirror_mode": {
    "name": "ipython",
    "version": 3
   },
   "file_extension": ".py",
   "mimetype": "text/x-python",
   "name": "python",
   "nbconvert_exporter": "python",
   "pygments_lexer": "ipython3",
   "version": "3.9.7"
  }
 },
 "nbformat": 4,
 "nbformat_minor": 2
}
