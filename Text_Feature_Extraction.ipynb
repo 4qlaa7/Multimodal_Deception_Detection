{
 "cells": [
  {
   "cell_type": "code",
   "execution_count": 1,
   "metadata": {},
   "outputs": [
    {
     "name": "stdout",
     "output_type": "stream",
     "text": [
      "Requirement already satisfied: nltk in c:\\users\\dell\\anaconda3\\lib\\site-packages (3.8.1)\n",
      "Requirement already satisfied: click in c:\\users\\dell\\anaconda3\\lib\\site-packages (from nltk) (8.0.4)\n",
      "Requirement already satisfied: joblib in c:\\users\\dell\\anaconda3\\lib\\site-packages (from nltk) (1.2.0)\n",
      "Requirement already satisfied: regex>=2021.8.3 in c:\\users\\dell\\anaconda3\\lib\\site-packages (from nltk) (2022.7.9)\n",
      "Requirement already satisfied: tqdm in c:\\users\\dell\\anaconda3\\lib\\site-packages (from nltk) (4.65.0)\n",
      "Requirement already satisfied: colorama in c:\\users\\dell\\anaconda3\\lib\\site-packages (from click->nltk) (0.4.6)\n",
      "Requirement already satisfied: scikit-learn in c:\\users\\dell\\anaconda3\\lib\\site-packages (1.3.0)\n",
      "Requirement already satisfied: numpy>=1.17.3 in c:\\users\\dell\\anaconda3\\lib\\site-packages (from scikit-learn) (1.24.3)\n",
      "Requirement already satisfied: scipy>=1.5.0 in c:\\users\\dell\\anaconda3\\lib\\site-packages (from scikit-learn) (1.11.1)\n",
      "Requirement already satisfied: joblib>=1.1.1 in c:\\users\\dell\\anaconda3\\lib\\site-packages (from scikit-learn) (1.2.0)\n",
      "Requirement already satisfied: threadpoolctl>=2.0.0 in c:\\users\\dell\\anaconda3\\lib\\site-packages (from scikit-learn) (2.2.0)\n"
     ]
    }
   ],
   "source": [
    "!pip install nltk\n",
    "!pip install scikit-learn"
   ]
  },
  {
   "cell_type": "code",
   "execution_count": 4,
   "metadata": {},
   "outputs": [
    {
     "name": "stderr",
     "output_type": "stream",
     "text": [
      "[nltk_data] Downloading package punkt to\n",
      "[nltk_data]     C:\\Users\\DELL\\AppData\\Roaming\\nltk_data...\n",
      "[nltk_data]   Unzipping tokenizers\\punkt.zip.\n"
     ]
    },
    {
     "name": "stdout",
     "output_type": "stream",
     "text": [
      "CSV file 'Deceptive_Transcript_Features.csv' created successfully.\n"
     ]
    }
   ],
   "source": [
    "import os\n",
    "import nltk\n",
    "import pandas as pd\n",
    "from nltk.tokenize import word_tokenize\n",
    "from sklearn.feature_extraction.text import CountVectorizer\n",
    "\n",
    "nltk.download('punkt')\n",
    "\n",
    "directory_path = \"D:/EDU/Graduation Project/Project/Real-life_Deception_Detection_2016/Transcription/Deceptive\"\n",
    "\n",
    "data = []\n",
    "\n",
    "for filename in os.listdir(directory_path):\n",
    "    if filename.endswith(\".txt\"):\n",
    "        file_path = os.path.join(directory_path, filename)\n",
    "\n",
    "        # Read the text from the file\n",
    "        with open(file_path, 'r', encoding='utf-8') as file:\n",
    "            transcript_text = file.read()\n",
    "\n",
    "        # Tokenization with removal of commas and dots\n",
    "        tokens = word_tokenize(transcript_text)\n",
    "        tokens = [word.lower() for word in tokens if word.isalpha()]\n",
    "\n",
    "        # Feature Extraction (Bag-of-Words)\n",
    "        vectorizer_bow = CountVectorizer()\n",
    "        features_bow = vectorizer_bow.fit_transform([' '.join(tokens)]).toarray()\n",
    "\n",
    "        # Append data to the list for each file\n",
    "        row_data = [filename] + list(features_bow.flatten())\n",
    "        data.append(row_data)\n",
    "\n",
    "# Get the correct number of columns\n",
    "num_columns = len(data[0])\n",
    "\n",
    "# Create a DataFrame from the list\n",
    "columns = ['Filename'] + [f'BOW_{i}' for i in range(1, 93)]\n",
    "df = pd.DataFrame(data, columns=columns)\n",
    "\n",
    "# Save DataFrame to CSV\n",
    "csv_filename = \"Deceptive_Transcript_Features.csv\"\n",
    "df.to_csv(csv_filename, index=False)\n",
    "\n",
    "print(f\"CSV file '{csv_filename}' created successfully.\")\n"
   ]
  },
  {
   "cell_type": "code",
   "execution_count": 6,
   "metadata": {},
   "outputs": [
    {
     "name": "stdout",
     "output_type": "stream",
     "text": [
      "CSV file 'Truthful_Transcript_Features.csv' created successfully.\n"
     ]
    }
   ],
   "source": [
    "directory_path = \"D:/EDU/Graduation Project/Project/Real-life_Deception_Detection_2016/Transcription/Truthful\"\n",
    "\n",
    "data = []\n",
    "\n",
    "for filename in os.listdir(directory_path):\n",
    "    if filename.endswith(\".txt\"):\n",
    "        file_path = os.path.join(directory_path, filename)\n",
    "\n",
    "        # Read the text from the file\n",
    "        with open(file_path, 'r', encoding='utf-8') as file:\n",
    "            transcript_text = file.read()\n",
    "\n",
    "        # Tokenization with removal of commas and dots\n",
    "        tokens = word_tokenize(transcript_text)\n",
    "        tokens = [word.lower() for word in tokens if word.isalpha()]\n",
    "\n",
    "        # Feature Extraction (Bag-of-Words)\n",
    "        vectorizer_bow = CountVectorizer()\n",
    "        features_bow = vectorizer_bow.fit_transform([' '.join(tokens)]).toarray()\n",
    "\n",
    "        # Append data to the list for each file\n",
    "        row_data = [filename] + list(features_bow.flatten())\n",
    "        data.append(row_data)\n",
    "\n",
    "# Get the correct number of columns\n",
    "num_columns = len(data[0])\n",
    "\n",
    "# Create a DataFrame from the list\n",
    "columns = ['Filename'] + [f'BOW_{i}' for i in range(1, 99)]\n",
    "df = pd.DataFrame(data, columns=columns)\n",
    "\n",
    "# Save DataFrame to CSV\n",
    "csv_filename = \"Truthful_Transcript_Features.csv\"\n",
    "df.to_csv(csv_filename, index=False)\n",
    "\n",
    "print(f\"CSV file '{csv_filename}' created successfully.\")"
   ]
  }
 ],
 "metadata": {
  "kernelspec": {
   "display_name": "base",
   "language": "python",
   "name": "python3"
  },
  "language_info": {
   "codemirror_mode": {
    "name": "ipython",
    "version": 3
   },
   "file_extension": ".py",
   "mimetype": "text/x-python",
   "name": "python",
   "nbconvert_exporter": "python",
   "pygments_lexer": "ipython3",
   "version": "3.9.18"
  }
 },
 "nbformat": 4,
 "nbformat_minor": 2
}
