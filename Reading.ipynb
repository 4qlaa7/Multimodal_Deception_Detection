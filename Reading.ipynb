{
  "nbformat": 4,
  "nbformat_minor": 0,
  "metadata": {
    "colab": {
      "provenance": [],
      "gpuType": "T4"
    },
    "kernelspec": {
      "name": "python3",
      "display_name": "Python 3"
    },
    "language_info": {
      "name": "python"
    },
    "accelerator": "GPU"
  },
  "cells": [
    {
      "cell_type": "markdown",
      "source": [
        "# Reading Data"
      ],
      "metadata": {
        "id": "VrbAAaW2nR4R"
      }
    },
    {
      "cell_type": "code",
      "source": [
        "!pip install keras\n",
        "!pip install tensorflow"
      ],
      "metadata": {
        "colab": {
          "base_uri": "https://localhost:8080/"
        },
        "id": "RcQw2zQWeCTS",
        "outputId": "033bc6b8-4b75-4a9d-ff34-7c5bf1ca07dc"
      },
      "execution_count": null,
      "outputs": [
        {
          "output_type": "stream",
          "name": "stdout",
          "text": [
            "Requirement already satisfied: keras in /usr/local/lib/python3.10/dist-packages (2.15.0)\n",
            "Requirement already satisfied: tensorflow in /usr/local/lib/python3.10/dist-packages (2.15.0)\n",
            "Requirement already satisfied: absl-py>=1.0.0 in /usr/local/lib/python3.10/dist-packages (from tensorflow) (1.4.0)\n",
            "Requirement already satisfied: astunparse>=1.6.0 in /usr/local/lib/python3.10/dist-packages (from tensorflow) (1.6.3)\n",
            "Requirement already satisfied: flatbuffers>=23.5.26 in /usr/local/lib/python3.10/dist-packages (from tensorflow) (23.5.26)\n",
            "Requirement already satisfied: gast!=0.5.0,!=0.5.1,!=0.5.2,>=0.2.1 in /usr/local/lib/python3.10/dist-packages (from tensorflow) (0.5.4)\n",
            "Requirement already satisfied: google-pasta>=0.1.1 in /usr/local/lib/python3.10/dist-packages (from tensorflow) (0.2.0)\n",
            "Requirement already satisfied: h5py>=2.9.0 in /usr/local/lib/python3.10/dist-packages (from tensorflow) (3.9.0)\n",
            "Requirement already satisfied: libclang>=13.0.0 in /usr/local/lib/python3.10/dist-packages (from tensorflow) (16.0.6)\n",
            "Requirement already satisfied: ml-dtypes~=0.2.0 in /usr/local/lib/python3.10/dist-packages (from tensorflow) (0.2.0)\n",
            "Requirement already satisfied: numpy<2.0.0,>=1.23.5 in /usr/local/lib/python3.10/dist-packages (from tensorflow) (1.23.5)\n",
            "Requirement already satisfied: opt-einsum>=2.3.2 in /usr/local/lib/python3.10/dist-packages (from tensorflow) (3.3.0)\n",
            "Requirement already satisfied: packaging in /usr/local/lib/python3.10/dist-packages (from tensorflow) (23.2)\n",
            "Requirement already satisfied: protobuf!=4.21.0,!=4.21.1,!=4.21.2,!=4.21.3,!=4.21.4,!=4.21.5,<5.0.0dev,>=3.20.3 in /usr/local/lib/python3.10/dist-packages (from tensorflow) (3.20.3)\n",
            "Requirement already satisfied: setuptools in /usr/local/lib/python3.10/dist-packages (from tensorflow) (67.7.2)\n",
            "Requirement already satisfied: six>=1.12.0 in /usr/local/lib/python3.10/dist-packages (from tensorflow) (1.16.0)\n",
            "Requirement already satisfied: termcolor>=1.1.0 in /usr/local/lib/python3.10/dist-packages (from tensorflow) (2.4.0)\n",
            "Requirement already satisfied: typing-extensions>=3.6.6 in /usr/local/lib/python3.10/dist-packages (from tensorflow) (4.5.0)\n",
            "Requirement already satisfied: wrapt<1.15,>=1.11.0 in /usr/local/lib/python3.10/dist-packages (from tensorflow) (1.14.1)\n",
            "Requirement already satisfied: tensorflow-io-gcs-filesystem>=0.23.1 in /usr/local/lib/python3.10/dist-packages (from tensorflow) (0.35.0)\n",
            "Requirement already satisfied: grpcio<2.0,>=1.24.3 in /usr/local/lib/python3.10/dist-packages (from tensorflow) (1.60.0)\n",
            "Requirement already satisfied: tensorboard<2.16,>=2.15 in /usr/local/lib/python3.10/dist-packages (from tensorflow) (2.15.1)\n",
            "Requirement already satisfied: tensorflow-estimator<2.16,>=2.15.0 in /usr/local/lib/python3.10/dist-packages (from tensorflow) (2.15.0)\n",
            "Requirement already satisfied: keras<2.16,>=2.15.0 in /usr/local/lib/python3.10/dist-packages (from tensorflow) (2.15.0)\n",
            "Requirement already satisfied: wheel<1.0,>=0.23.0 in /usr/local/lib/python3.10/dist-packages (from astunparse>=1.6.0->tensorflow) (0.42.0)\n",
            "Requirement already satisfied: google-auth<3,>=1.6.3 in /usr/local/lib/python3.10/dist-packages (from tensorboard<2.16,>=2.15->tensorflow) (2.17.3)\n",
            "Requirement already satisfied: google-auth-oauthlib<2,>=0.5 in /usr/local/lib/python3.10/dist-packages (from tensorboard<2.16,>=2.15->tensorflow) (1.2.0)\n",
            "Requirement already satisfied: markdown>=2.6.8 in /usr/local/lib/python3.10/dist-packages (from tensorboard<2.16,>=2.15->tensorflow) (3.5.1)\n",
            "Requirement already satisfied: requests<3,>=2.21.0 in /usr/local/lib/python3.10/dist-packages (from tensorboard<2.16,>=2.15->tensorflow) (2.31.0)\n",
            "Requirement already satisfied: tensorboard-data-server<0.8.0,>=0.7.0 in /usr/local/lib/python3.10/dist-packages (from tensorboard<2.16,>=2.15->tensorflow) (0.7.2)\n",
            "Requirement already satisfied: werkzeug>=1.0.1 in /usr/local/lib/python3.10/dist-packages (from tensorboard<2.16,>=2.15->tensorflow) (3.0.1)\n",
            "Requirement already satisfied: cachetools<6.0,>=2.0.0 in /usr/local/lib/python3.10/dist-packages (from google-auth<3,>=1.6.3->tensorboard<2.16,>=2.15->tensorflow) (5.3.2)\n",
            "Requirement already satisfied: pyasn1-modules>=0.2.1 in /usr/local/lib/python3.10/dist-packages (from google-auth<3,>=1.6.3->tensorboard<2.16,>=2.15->tensorflow) (0.3.0)\n",
            "Requirement already satisfied: rsa<5,>=3.1.4 in /usr/local/lib/python3.10/dist-packages (from google-auth<3,>=1.6.3->tensorboard<2.16,>=2.15->tensorflow) (4.9)\n",
            "Requirement already satisfied: requests-oauthlib>=0.7.0 in /usr/local/lib/python3.10/dist-packages (from google-auth-oauthlib<2,>=0.5->tensorboard<2.16,>=2.15->tensorflow) (1.3.1)\n",
            "Requirement already satisfied: charset-normalizer<4,>=2 in /usr/local/lib/python3.10/dist-packages (from requests<3,>=2.21.0->tensorboard<2.16,>=2.15->tensorflow) (3.3.2)\n",
            "Requirement already satisfied: idna<4,>=2.5 in /usr/local/lib/python3.10/dist-packages (from requests<3,>=2.21.0->tensorboard<2.16,>=2.15->tensorflow) (3.6)\n",
            "Requirement already satisfied: urllib3<3,>=1.21.1 in /usr/local/lib/python3.10/dist-packages (from requests<3,>=2.21.0->tensorboard<2.16,>=2.15->tensorflow) (2.0.7)\n",
            "Requirement already satisfied: certifi>=2017.4.17 in /usr/local/lib/python3.10/dist-packages (from requests<3,>=2.21.0->tensorboard<2.16,>=2.15->tensorflow) (2023.11.17)\n",
            "Requirement already satisfied: MarkupSafe>=2.1.1 in /usr/local/lib/python3.10/dist-packages (from werkzeug>=1.0.1->tensorboard<2.16,>=2.15->tensorflow) (2.1.3)\n",
            "Requirement already satisfied: pyasn1<0.6.0,>=0.4.6 in /usr/local/lib/python3.10/dist-packages (from pyasn1-modules>=0.2.1->google-auth<3,>=1.6.3->tensorboard<2.16,>=2.15->tensorflow) (0.5.1)\n",
            "Requirement already satisfied: oauthlib>=3.0.0 in /usr/local/lib/python3.10/dist-packages (from requests-oauthlib>=0.7.0->google-auth-oauthlib<2,>=0.5->tensorboard<2.16,>=2.15->tensorflow) (3.2.2)\n"
          ]
        }
      ]
    },
    {
      "cell_type": "code",
      "source": [
        "import csv\n",
        "import numpy as np\n",
        "!pip install tensorflow-gpu"
      ],
      "metadata": {
        "colab": {
          "base_uri": "https://localhost:8080/"
        },
        "id": "vCzG70gJBhhg",
        "outputId": "629dd137-d7c6-4ec5-80c6-00fd307da3f3"
      },
      "execution_count": 1,
      "outputs": [
        {
          "output_type": "stream",
          "name": "stdout",
          "text": [
            "Collecting tensorflow-gpu\n",
            "  Downloading tensorflow-gpu-2.12.0.tar.gz (2.6 kB)\n",
            "  \u001b[1;31merror\u001b[0m: \u001b[1msubprocess-exited-with-error\u001b[0m\n",
            "  \n",
            "  \u001b[31m×\u001b[0m \u001b[32mpython setup.py egg_info\u001b[0m did not run successfully.\n",
            "  \u001b[31m│\u001b[0m exit code: \u001b[1;36m1\u001b[0m\n",
            "  \u001b[31m╰─>\u001b[0m See above for output.\n",
            "  \n",
            "  \u001b[1;35mnote\u001b[0m: This error originates from a subprocess, and is likely not a problem with pip.\n",
            "  Preparing metadata (setup.py) ... \u001b[?25l\u001b[?25herror\n",
            "\u001b[1;31merror\u001b[0m: \u001b[1mmetadata-generation-failed\u001b[0m\n",
            "\n",
            "\u001b[31m×\u001b[0m Encountered error while generating package metadata.\n",
            "\u001b[31m╰─>\u001b[0m See above for output.\n",
            "\n",
            "\u001b[1;35mnote\u001b[0m: This is an issue with the package mentioned above, not pip.\n",
            "\u001b[1;36mhint\u001b[0m: See above for details.\n"
          ]
        }
      ]
    },
    {
      "cell_type": "code",
      "source": [
        "TrainF = []\n",
        "TrainL = []\n",
        "TestF = []\n",
        "TestL = []"
      ],
      "metadata": {
        "id": "glWuV6ooFqIo"
      },
      "execution_count": 2,
      "outputs": []
    },
    {
      "cell_type": "code",
      "source": [
        "Facial_Features = '/content/drive/MyDrive/Graduation Project/Features/Facial_Deceptive_features_dlib.csv'\n",
        "Audio_Features = '/content/drive/MyDrive/Graduation Project/Features/Deceptive_Audio_Features.csv'\n",
        "Trans_Features = '/content/drive/MyDrive/Graduation Project/Features/Deceptive_Transcript_Features.csv'\n",
        "\n",
        "for i in range(40):\n",
        "  arr = []\n",
        "  desired_row_number = i + 1\n",
        "  with open(Facial_Features, 'r') as csv_file:\n",
        "      csv_reader = csv.reader(csv_file)\n",
        "      for current_row_number, row in enumerate(csv_reader, start=0):\n",
        "          if current_row_number == desired_row_number:\n",
        "              break\n",
        "  t = 1\n",
        "  facialDeception = []\n",
        "  while t < len(row):\n",
        "    facialDeception.append(float(row[t]))\n",
        "    t += 1\n",
        "  facialDeception = np.asarray(facialDeception).astype(np.float32)\n",
        "\n",
        "\n",
        "  with open(Audio_Features, 'r') as csv_file:\n",
        "    csv_reader = csv.reader(csv_file)\n",
        "    for current_row_number, row in enumerate(csv_reader, start=0):\n",
        "        if current_row_number == desired_row_number:\n",
        "            break\n",
        "\n",
        "  t = 1\n",
        "  AudioDeception = []\n",
        "  while t < len(row):\n",
        "    if float(row[t]) > 0 or float(row[t]) < 0:\n",
        "      AudioDeception.append(float(row[t]))\n",
        "    t += 1\n",
        "  AudioDeception = np.asarray(AudioDeception).astype(np.float32)\n",
        "\n",
        "  with open(Trans_Features, 'r') as csv_file:\n",
        "    csv_reader = csv.reader(csv_file)\n",
        "    for current_row_number, row in enumerate(csv_reader, start=0):\n",
        "        if current_row_number == desired_row_number:\n",
        "            break\n",
        "  t = 1\n",
        "  TransDeception = []\n",
        "  while t < len(row):\n",
        "    if row[t]:\n",
        "      TransDeception.append(float(row[t]))\n",
        "    t += 1\n",
        "  TransDeception = np.asarray(TransDeception).astype(np.float32)\n",
        "  arr = np.concatenate((facialDeception,AudioDeception,TransDeception))\n",
        "  arr = np.array(arr)\n",
        "  TrainF.append(arr)\n",
        "\n",
        "print(len(TrainF))\n",
        "\n",
        "for j in range(len(TrainF)):\n",
        "  TrainL.append(1)\n",
        "\n",
        "\n",
        "print(len(TrainL))\n",
        "\n",
        "\n",
        "for i in range(40,51):\n",
        "  arr = []\n",
        "  desired_row_number = i + 1\n",
        "  with open(Facial_Features, 'r') as csv_file:\n",
        "      csv_reader = csv.reader(csv_file)\n",
        "      for current_row_number, row in enumerate(csv_reader, start=0):\n",
        "          if current_row_number == desired_row_number:\n",
        "              break\n",
        "  t = 1\n",
        "  facialDeception = []\n",
        "  while t < len(row):\n",
        "    facialDeception.append(float(row[t]))\n",
        "    t += 1\n",
        "  facialDeception = np.asarray(facialDeception).astype(np.float32)\n",
        "\n",
        "\n",
        "  with open(Audio_Features, 'r') as csv_file:\n",
        "    csv_reader = csv.reader(csv_file)\n",
        "    for current_row_number, row in enumerate(csv_reader, start=0):\n",
        "        if current_row_number == desired_row_number:\n",
        "            break\n",
        "\n",
        "  t = 1\n",
        "  AudioDeception = []\n",
        "  while t < len(row):\n",
        "    if float(row[t]) > 0 or float(row[t]) < 0:\n",
        "      AudioDeception.append(float(row[t]))\n",
        "    t += 1\n",
        "  AudioDeception = np.asarray(AudioDeception).astype(np.float32)\n",
        "\n",
        "  with open(Trans_Features, 'r') as csv_file:\n",
        "    csv_reader = csv.reader(csv_file)\n",
        "    for current_row_number, row in enumerate(csv_reader, start=0):\n",
        "        if current_row_number == desired_row_number:\n",
        "            break\n",
        "  t = 1\n",
        "  TransDeception = []\n",
        "  while t < len(row):\n",
        "    if row[t]:\n",
        "      TransDeception.append(float(row[t]))\n",
        "    t += 1\n",
        "  TransDeception = np.asarray(TransDeception).astype(np.float32)\n",
        "  arr = np.concatenate((facialDeception,AudioDeception,TransDeception))\n",
        "  arr = np.array(arr)\n",
        "  TestF.append(arr)\n",
        "\n",
        "print(\"Test\")\n",
        "print(len(TestF))\n",
        "\n",
        "\n",
        "for j in range(len(TestF)):\n",
        "  TestL.append(1)\n",
        "\n",
        "print(len(TestL))\n"
      ],
      "metadata": {
        "colab": {
          "base_uri": "https://localhost:8080/"
        },
        "id": "C_shgLrlLeTD",
        "outputId": "46d0af97-b615-4541-fb40-67ec3fdaded6"
      },
      "execution_count": 3,
      "outputs": [
        {
          "output_type": "stream",
          "name": "stdout",
          "text": [
            "40\n",
            "40\n",
            "Test\n",
            "11\n",
            "11\n"
          ]
        }
      ]
    },
    {
      "cell_type": "markdown",
      "source": [
        "# Tuthful Loading"
      ],
      "metadata": {
        "id": "ndxHfmDB7KPF"
      }
    },
    {
      "cell_type": "code",
      "source": [
        "Facial_Features = '/content/drive/MyDrive/Graduation Project/Features/Facial_Truthful_features_dlib.csv'\n",
        "Audio_Features = '/content/drive/MyDrive/Graduation Project/Features/Truthful_Audio_Features.csv'\n",
        "Trans_Features = '/content/drive/MyDrive/Graduation Project/Features/Truthful_Transcript_Features.csv'\n",
        "\n",
        "for i in range(40):\n",
        "  arr = []\n",
        "  desired_row_number = i + 1\n",
        "  with open(Facial_Features, 'r') as csv_file:\n",
        "      csv_reader = csv.reader(csv_file)\n",
        "      for current_row_number, row in enumerate(csv_reader, start=0):\n",
        "          if current_row_number == desired_row_number:\n",
        "              break\n",
        "  t = 1\n",
        "  facialDeception = []\n",
        "  while t < len(row):\n",
        "    facialDeception.append(float(row[t]))\n",
        "    t += 1\n",
        "  facialDeception = np.asarray(facialDeception).astype(np.float32)\n",
        "\n",
        "\n",
        "  with open(Audio_Features, 'r') as csv_file:\n",
        "    csv_reader = csv.reader(csv_file)\n",
        "    for current_row_number, row in enumerate(csv_reader, start=0):\n",
        "        if current_row_number == desired_row_number:\n",
        "            break\n",
        "\n",
        "  t = 1\n",
        "  AudioDeception = []\n",
        "  while t < len(row):\n",
        "    if float(row[t]) > 0 or float(row[t]) < 0:\n",
        "      AudioDeception.append(float(row[t]))\n",
        "    t += 1\n",
        "  AudioDeception = np.asarray(AudioDeception).astype(np.float32)\n",
        "\n",
        "  with open(Trans_Features, 'r') as csv_file:\n",
        "    csv_reader = csv.reader(csv_file)\n",
        "    for current_row_number, row in enumerate(csv_reader, start=0):\n",
        "        if current_row_number == desired_row_number:\n",
        "            break\n",
        "  t = 1\n",
        "  TransDeception = []\n",
        "  while t < len(row):\n",
        "    if row[t]:\n",
        "      TransDeception.append(float(row[t]))\n",
        "    t += 1\n",
        "  TransDeception = np.asarray(TransDeception).astype(np.float32)\n",
        "  arr = np.concatenate((facialDeception,AudioDeception,TransDeception))\n",
        "\n",
        "  arr = np.array(arr)\n",
        "  TrainF.append(arr)\n",
        "\n",
        "\n",
        "print(len(TrainF))\n",
        "\n",
        "for j in range(40,len(TrainF)):\n",
        "  TrainL.append(0)\n",
        "\n",
        "print(len(TrainL))\n",
        "\n",
        "for i in range(40,51):\n",
        "  arr = []\n",
        "  desired_row_number = i + 1\n",
        "  with open(Facial_Features, 'r') as csv_file:\n",
        "      csv_reader = csv.reader(csv_file)\n",
        "      for current_row_number, row in enumerate(csv_reader, start=0):\n",
        "          if current_row_number == desired_row_number:\n",
        "              break\n",
        "  t = 1\n",
        "  facialDeception = []\n",
        "  while t < len(row):\n",
        "    facialDeception.append(float(row[t]))\n",
        "    t += 1\n",
        "  facialDeception = np.asarray(facialDeception).astype(np.float32)\n",
        "\n",
        "\n",
        "  with open(Audio_Features, 'r') as csv_file:\n",
        "    csv_reader = csv.reader(csv_file)\n",
        "    for current_row_number, row in enumerate(csv_reader, start=0):\n",
        "        if current_row_number == desired_row_number:\n",
        "            break\n",
        "\n",
        "  t = 1\n",
        "  AudioDeception = []\n",
        "  while t < len(row):\n",
        "    if float(row[t]) > 0 or float(row[t]) < 0:\n",
        "      AudioDeception.append(float(row[t]))\n",
        "    t += 1\n",
        "  AudioDeception = np.asarray(AudioDeception).astype(np.float32)\n",
        "\n",
        "  with open(Trans_Features, 'r') as csv_file:\n",
        "    csv_reader = csv.reader(csv_file)\n",
        "    for current_row_number, row in enumerate(csv_reader, start=0):\n",
        "        if current_row_number == desired_row_number:\n",
        "            break\n",
        "  t = 1\n",
        "  TransDeception = []\n",
        "  while t < len(row):\n",
        "    if row[t]:\n",
        "      TransDeception.append(float(row[t]))\n",
        "    t += 1\n",
        "  TransDeception = np.asarray(TransDeception).astype(np.float32)\n",
        "  arr = np.concatenate((facialDeception,AudioDeception,TransDeception))\n",
        "\n",
        "  arr = np.array(arr)\n",
        "  TestF.append(arr)\n",
        "\n",
        "\n",
        "print(\"Test\")\n",
        "print(len(TestF))\n",
        "\n",
        "\n",
        "for j in range(11,len(TestF)):\n",
        "  TestL.append(0)\n",
        "\n",
        "print(len(TestL))"
      ],
      "metadata": {
        "colab": {
          "base_uri": "https://localhost:8080/"
        },
        "id": "0F7WRn6r6qmc",
        "outputId": "ccdf0c95-0a93-4d3c-96a6-6e5b7ca7a0d2"
      },
      "execution_count": 4,
      "outputs": [
        {
          "output_type": "stream",
          "name": "stdout",
          "text": [
            "80\n",
            "80\n",
            "Test\n",
            "22\n",
            "22\n"
          ]
        }
      ]
    },
    {
      "cell_type": "code",
      "source": [
        "# Checking for any tuples or missing values\n",
        "\n",
        "missing_values = any(any(v is None or isinstance(v, tuple) for v in sublist) for sublist in TestF)\n",
        "\n",
        "if missing_values:\n",
        "  print(\"hahaha fe error ya beh\")\n",
        "else:\n",
        "  print(\"zy elfol ya regola\")"
      ],
      "metadata": {
        "colab": {
          "base_uri": "https://localhost:8080/"
        },
        "id": "GsjLCBSGNtqU",
        "outputId": "5f4223f1-f6f3-4165-9053-74b75734b97d"
      },
      "execution_count": 7,
      "outputs": [
        {
          "output_type": "stream",
          "name": "stdout",
          "text": [
            "zy elfol ya regola\n"
          ]
        }
      ]
    },
    {
      "cell_type": "code",
      "source": [
        "def paddd(arrays):\n",
        "    max_length = 636228 #Because it's the maximum number for all the videos\n",
        "    padded_arrays = [np.append(array,[0] * (max_length - len(array)),axis=None) for array in arrays]\n",
        "    print(max_length)\n",
        "    return padded_arrays\n"
      ],
      "metadata": {
        "id": "6m4Tu4T89blA"
      },
      "execution_count": 5,
      "outputs": []
    },
    {
      "cell_type": "code",
      "source": [
        "New_Test = paddd(TestF)\n",
        "New_Train = paddd(TrainF)\n"
      ],
      "metadata": {
        "colab": {
          "base_uri": "https://localhost:8080/"
        },
        "id": "FIRF3u4vD5ha",
        "outputId": "82171c4b-c71b-4cef-a966-4f82470194f6"
      },
      "execution_count": 6,
      "outputs": [
        {
          "output_type": "stream",
          "name": "stdout",
          "text": [
            "249681\n",
            "636228\n"
          ]
        }
      ]
    },
    {
      "cell_type": "code",
      "source": [
        "# hya dehhh elmoshklaaaaaaaaaaaaaaa Fiinallyyyyy\n",
        "\n",
        "X_list = [np.array([1, 2, 3]), np.array([4, 5, 6]), np.array([7, 8, 9])]\n",
        "\n",
        "x = np.asarray(X_list).astype(np.float32)\n",
        "print(x.dtype)"
      ],
      "metadata": {
        "colab": {
          "base_uri": "https://localhost:8080/"
        },
        "id": "CR4a7d5lU61G",
        "outputId": "ea0d92e2-c1a5-475e-d8a1-7218d96158b3"
      },
      "execution_count": null,
      "outputs": [
        {
          "output_type": "stream",
          "name": "stdout",
          "text": [
            "float32\n"
          ]
        }
      ]
    },
    {
      "cell_type": "code",
      "source": [
        "New_Train = np.asarray(New_Train).astype(np.float32)\n",
        "New_Test = np.asarray(New_Test).astype(np.float32)\n",
        "TrainL = np.asarray(TrainL).astype(np.float32)\n",
        "TestL = np.asarray(TestL).astype(np.float32)\n",
        "\n",
        "\n",
        "print(\"TrainF shape:\", New_Train.shape)\n",
        "print(\"TrainL shape:\", TrainL.shape)\n",
        "print(\"TestF shape:\", New_Test.shape)\n",
        "print(\"TestL shape:\", TestL.shape)\n",
        "print(\"TrainF type:\", New_Train.dtype)\n",
        "print(\"TrainL type:\", TrainL.dtype)\n",
        "print(\"TestF type:\", New_Test.dtype)\n",
        "print(\"TestL type:\", TestL.dtype)\n"
      ],
      "metadata": {
        "colab": {
          "base_uri": "https://localhost:8080/"
        },
        "id": "t-NoLyhnZoy_",
        "outputId": "4e9201dd-c5c5-4e66-b545-d5a3f9138586"
      },
      "execution_count": 7,
      "outputs": [
        {
          "output_type": "stream",
          "name": "stdout",
          "text": [
            "TrainF shape: (80, 636228)\n",
            "TrainL shape: (80,)\n",
            "TestF shape: (22, 249681)\n",
            "TestL shape: (22,)\n",
            "TrainF type: float32\n",
            "TrainL type: float32\n",
            "TestF type: float32\n",
            "TestL type: float32\n"
          ]
        }
      ]
    },
    {
      "cell_type": "code",
      "source": [
        "np.savez('Padded_Training.npz', features=New_Train, labels=TrainL)\n",
        "np.savez('Padded_Testing.npz', features=New_Test, labels=TestL)"
      ],
      "metadata": {
        "id": "loXjHbscUvFY"
      },
      "execution_count": 8,
      "outputs": []
    },
    {
      "cell_type": "code",
      "source": [
        "import tensorflow as tf\n",
        "all_video_features_combined = np.concatenate(TrainF, axis=0)\n",
        "#all_video_features_combined = np.expand_dims(all_video_features_combined, axis=2)\n",
        "TrainF = tf.convert_to_tensor(all_video_features_combined, dtype=tf.float32)\n",
        "TrainL = tf.convert_to_tensor(TrainL, dtype=tf.float32)"
      ],
      "metadata": {
        "id": "Fg4wLvjJ-MNH"
      },
      "execution_count": null,
      "outputs": []
    },
    {
      "cell_type": "code",
      "source": [
        "input_shape = (80, 636228, 1)"
      ],
      "metadata": {
        "colab": {
          "base_uri": "https://localhost:8080/"
        },
        "id": "7jukPb2_NclS",
        "outputId": "ec2d22ab-2771-4945-d130-5aeb96186aef"
      },
      "execution_count": null,
      "outputs": [
        {
          "output_type": "stream",
          "name": "stdout",
          "text": [
            "(11533792,)\n"
          ]
        }
      ]
    },
    {
      "cell_type": "code",
      "source": [
        "New_Train.shape"
      ],
      "metadata": {
        "id": "y5VhbHTgV9sp",
        "colab": {
          "base_uri": "https://localhost:8080/"
        },
        "outputId": "10dd72f1-750d-47f0-81cc-94502b4488f3"
      },
      "execution_count": 21,
      "outputs": [
        {
          "output_type": "execute_result",
          "data": {
            "text/plain": [
              "(80, 636228)"
            ]
          },
          "metadata": {},
          "execution_count": 21
        }
      ]
    }
  ]
}